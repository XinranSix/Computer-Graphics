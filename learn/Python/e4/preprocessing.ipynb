{
 "cells": [
  {
   "cell_type": "code",
   "execution_count": 1,
   "metadata": {
    "ExecuteTime": {
     "end_time": "2023-05-26T00:39:27.910567600Z",
     "start_time": "2023-05-26T00:39:27.435652400Z"
    }
   },
   "outputs": [],
   "source": [
    "import os\n",
    "import re\n",
    "import pandas as pd\n",
    "import numpy as np"
   ]
  },
  {
   "cell_type": "code",
   "execution_count": 2,
   "metadata": {
    "ExecuteTime": {
     "end_time": "2023-05-26T00:39:35.562364600Z",
     "start_time": "2023-05-26T00:39:27.914562100Z"
    }
   },
   "outputs": [],
   "source": [
    "# 查看raw_data目录下所有文件\n",
    "input_dir='./raw_data/'\n",
    "files = os.listdir(input_dir)\n",
    "\n",
    "# 创建列表保存读取的xlsx文件\n",
    "data_list = []\n",
    "\n",
    "# 读取excel文件\n",
    "for file in files:\n",
    "    data_list.append(pd.read_excel(input_dir + file))"
   ]
  },
  {
   "cell_type": "code",
   "execution_count": 3,
   "metadata": {
    "ExecuteTime": {
     "end_time": "2023-05-26T00:39:35.608387200Z",
     "start_time": "2023-05-26T00:39:35.566377Z"
    }
   },
   "outputs": [
    {
     "name": "stdout",
     "output_type": "stream",
     "text": [
      "52256\n"
     ]
    },
    {
     "data": {
      "text/plain": "                       描述     位置信息  区域  \\\n0       威兰德装修套三对中庭，客户只给契税   威兰德小镇   双流   \n1  房子清水套三户型方正采光好无遮挡，视野开阔！  南湖逸家二期   双流   \n2     南湖逸家满二精装房，中间楼层，采光良好  南湖逸家二期   双流   \n3       佰客郡精装修房子配套成熟业主真心卖     佰客郡   双流   \n4      加贝书香尚品 精装修 带家具家电出售  加贝书香尚品   双流   \n\n                                                房屋信息              关注信息  \\\n0   3室2厅 | 86.4平米 | 东 | 简装 | 中楼层(共26层) | 2016年建 | 塔楼  135人关注 / 6个月以前发布   \n1  3室1厅 | 66.12平米 | 东 | 毛坯 | 高楼层(共33层) | 2017年建 |...   40人关注 / 2个月以前发布   \n2  3室1厅 | 73.59平米 | 南 | 精装 | 中楼层(共34层) | 2017年建 |...   58人关注 / 15天以前发布   \n3  2室1厅 | 75.4平米 | 东 北 | 简装 | 中楼层(共16层) | 2011年建 ...   36人关注 / 2个月以前发布   \n4  1室1厅 | 51.69平米 | 南 | 精装 | 高楼层(共15层) | 2007年建 | 板楼   38人关注 / 1个月以前发布   \n\n       总价           单价  \n0   91.8万  单价10625元/平米  \n1  128.5万  单价19435元/平米  \n2    153万  单价20791元/平米  \n3     89万  单价11804元/平米  \n4   64.5万  单价12479元/平米  ",
      "text/html": "<div>\n<style scoped>\n    .dataframe tbody tr th:only-of-type {\n        vertical-align: middle;\n    }\n\n    .dataframe tbody tr th {\n        vertical-align: top;\n    }\n\n    .dataframe thead th {\n        text-align: right;\n    }\n</style>\n<table border=\"1\" class=\"dataframe\">\n  <thead>\n    <tr style=\"text-align: right;\">\n      <th></th>\n      <th>描述</th>\n      <th>位置信息</th>\n      <th>区域</th>\n      <th>房屋信息</th>\n      <th>关注信息</th>\n      <th>总价</th>\n      <th>单价</th>\n    </tr>\n  </thead>\n  <tbody>\n    <tr>\n      <th>0</th>\n      <td>威兰德装修套三对中庭，客户只给契税</td>\n      <td>威兰德小镇</td>\n      <td>双流</td>\n      <td>3室2厅 | 86.4平米 | 东 | 简装 | 中楼层(共26层) | 2016年建 | 塔楼</td>\n      <td>135人关注 / 6个月以前发布</td>\n      <td>91.8万</td>\n      <td>单价10625元/平米</td>\n    </tr>\n    <tr>\n      <th>1</th>\n      <td>房子清水套三户型方正采光好无遮挡，视野开阔！</td>\n      <td>南湖逸家二期</td>\n      <td>双流</td>\n      <td>3室1厅 | 66.12平米 | 东 | 毛坯 | 高楼层(共33层) | 2017年建 |...</td>\n      <td>40人关注 / 2个月以前发布</td>\n      <td>128.5万</td>\n      <td>单价19435元/平米</td>\n    </tr>\n    <tr>\n      <th>2</th>\n      <td>南湖逸家满二精装房，中间楼层，采光良好</td>\n      <td>南湖逸家二期</td>\n      <td>双流</td>\n      <td>3室1厅 | 73.59平米 | 南 | 精装 | 中楼层(共34层) | 2017年建 |...</td>\n      <td>58人关注 / 15天以前发布</td>\n      <td>153万</td>\n      <td>单价20791元/平米</td>\n    </tr>\n    <tr>\n      <th>3</th>\n      <td>佰客郡精装修房子配套成熟业主真心卖</td>\n      <td>佰客郡</td>\n      <td>双流</td>\n      <td>2室1厅 | 75.4平米 | 东 北 | 简装 | 中楼层(共16层) | 2011年建 ...</td>\n      <td>36人关注 / 2个月以前发布</td>\n      <td>89万</td>\n      <td>单价11804元/平米</td>\n    </tr>\n    <tr>\n      <th>4</th>\n      <td>加贝书香尚品 精装修 带家具家电出售</td>\n      <td>加贝书香尚品</td>\n      <td>双流</td>\n      <td>1室1厅 | 51.69平米 | 南 | 精装 | 高楼层(共15层) | 2007年建 | 板楼</td>\n      <td>38人关注 / 1个月以前发布</td>\n      <td>64.5万</td>\n      <td>单价12479元/平米</td>\n    </tr>\n  </tbody>\n</table>\n</div>"
     },
     "execution_count": 3,
     "metadata": {},
     "output_type": "execute_result"
    }
   ],
   "source": [
    "# 合并所有文件\n",
    "data = pd.concat(data_list)\n",
    "\n",
    "# 重整列索引，非常重要!!!\n",
    "data = data.reset_index()\n",
    "data = data.drop(\"index\",axis=1)\n",
    "\n",
    "# 查看数据记录个数\n",
    "print(len(data))\n",
    "\n",
    "# 预览读入文件中的前5条记录\n",
    "data.head(5)"
   ]
  },
  {
   "cell_type": "code",
   "execution_count": 4,
   "metadata": {
    "ExecuteTime": {
     "end_time": "2023-05-26T00:39:35.679395400Z",
     "start_time": "2023-05-26T00:39:35.637376500Z"
    }
   },
   "outputs": [
    {
     "data": {
      "text/plain": "7    39045\n6    12669\n8      370\n4      122\n5       50\nName: 房屋信息, dtype: int64"
     },
     "execution_count": 4,
     "metadata": {},
     "output_type": "execute_result"
    }
   ],
   "source": [
    "# 检索每条房屋信息记录中保存的信息个数\n",
    "nrec = data.房屋信息.map(lambda x : len(x.split('|')))\n",
    "nrec.value_counts()"
   ]
  },
  {
   "cell_type": "code",
   "execution_count": 5,
   "metadata": {
    "ExecuteTime": {
     "end_time": "2023-05-26T00:39:35.680389500Z",
     "start_time": "2023-05-26T00:39:35.659381600Z"
    }
   },
   "outputs": [
    {
     "data": {
      "text/plain": "39045"
     },
     "execution_count": 5,
     "metadata": {},
     "output_type": "execute_result"
    }
   ],
   "source": [
    "# 只保留有7条信息的记录\n",
    "data = data[nrec == 7]\n",
    "# 打印现有记录长度\n",
    "len(data)"
   ]
  },
  {
   "cell_type": "code",
   "execution_count": 6,
   "metadata": {
    "ExecuteTime": {
     "end_time": "2023-05-26T00:39:35.879500200Z",
     "start_time": "2023-05-26T00:39:35.674384900Z"
    }
   },
   "outputs": [
    {
     "data": {
      "text/plain": "                       描述     位置信息  区域              关注信息      总价           单价  \\\n0       威兰德装修套三对中庭，客户只给契税   威兰德小镇   双流  135人关注 / 6个月以前发布   91.8万  单价10625元/平米   \n1  房子清水套三户型方正采光好无遮挡，视野开阔！  南湖逸家二期   双流   40人关注 / 2个月以前发布  128.5万  单价19435元/平米   \n2     南湖逸家满二精装房，中间楼层，采光良好  南湖逸家二期   双流   58人关注 / 15天以前发布    153万  单价20791元/平米   \n3       佰客郡精装修房子配套成熟业主真心卖     佰客郡   双流   36人关注 / 2个月以前发布     89万  单价11804元/平米   \n4      加贝书香尚品 精装修 带家具家电出售  加贝书香尚品   双流   38人关注 / 1个月以前发布   64.5万  单价12479元/平米   \n\n      户型         面积     朝向    类型           楼层      建成时间     结构  \n0  3室2厅     86.4平米      东    简装    中楼层(共26层)    2016年建      塔楼  \n1  3室1厅    66.12平米      东    毛坯    高楼层(共33层)    2017年建    板塔结合  \n2  3室1厅    73.59平米      南    精装    中楼层(共34层)    2017年建    板塔结合  \n3  2室1厅     75.4平米    东 北    简装    中楼层(共16层)    2011年建      板楼  \n4  1室1厅    51.69平米      南    精装    高楼层(共15层)    2007年建      板楼  ",
      "text/html": "<div>\n<style scoped>\n    .dataframe tbody tr th:only-of-type {\n        vertical-align: middle;\n    }\n\n    .dataframe tbody tr th {\n        vertical-align: top;\n    }\n\n    .dataframe thead th {\n        text-align: right;\n    }\n</style>\n<table border=\"1\" class=\"dataframe\">\n  <thead>\n    <tr style=\"text-align: right;\">\n      <th></th>\n      <th>描述</th>\n      <th>位置信息</th>\n      <th>区域</th>\n      <th>关注信息</th>\n      <th>总价</th>\n      <th>单价</th>\n      <th>户型</th>\n      <th>面积</th>\n      <th>朝向</th>\n      <th>类型</th>\n      <th>楼层</th>\n      <th>建成时间</th>\n      <th>结构</th>\n    </tr>\n  </thead>\n  <tbody>\n    <tr>\n      <th>0</th>\n      <td>威兰德装修套三对中庭，客户只给契税</td>\n      <td>威兰德小镇</td>\n      <td>双流</td>\n      <td>135人关注 / 6个月以前发布</td>\n      <td>91.8万</td>\n      <td>单价10625元/平米</td>\n      <td>3室2厅</td>\n      <td>86.4平米</td>\n      <td>东</td>\n      <td>简装</td>\n      <td>中楼层(共26层)</td>\n      <td>2016年建</td>\n      <td>塔楼</td>\n    </tr>\n    <tr>\n      <th>1</th>\n      <td>房子清水套三户型方正采光好无遮挡，视野开阔！</td>\n      <td>南湖逸家二期</td>\n      <td>双流</td>\n      <td>40人关注 / 2个月以前发布</td>\n      <td>128.5万</td>\n      <td>单价19435元/平米</td>\n      <td>3室1厅</td>\n      <td>66.12平米</td>\n      <td>东</td>\n      <td>毛坯</td>\n      <td>高楼层(共33层)</td>\n      <td>2017年建</td>\n      <td>板塔结合</td>\n    </tr>\n    <tr>\n      <th>2</th>\n      <td>南湖逸家满二精装房，中间楼层，采光良好</td>\n      <td>南湖逸家二期</td>\n      <td>双流</td>\n      <td>58人关注 / 15天以前发布</td>\n      <td>153万</td>\n      <td>单价20791元/平米</td>\n      <td>3室1厅</td>\n      <td>73.59平米</td>\n      <td>南</td>\n      <td>精装</td>\n      <td>中楼层(共34层)</td>\n      <td>2017年建</td>\n      <td>板塔结合</td>\n    </tr>\n    <tr>\n      <th>3</th>\n      <td>佰客郡精装修房子配套成熟业主真心卖</td>\n      <td>佰客郡</td>\n      <td>双流</td>\n      <td>36人关注 / 2个月以前发布</td>\n      <td>89万</td>\n      <td>单价11804元/平米</td>\n      <td>2室1厅</td>\n      <td>75.4平米</td>\n      <td>东 北</td>\n      <td>简装</td>\n      <td>中楼层(共16层)</td>\n      <td>2011年建</td>\n      <td>板楼</td>\n    </tr>\n    <tr>\n      <th>4</th>\n      <td>加贝书香尚品 精装修 带家具家电出售</td>\n      <td>加贝书香尚品</td>\n      <td>双流</td>\n      <td>38人关注 / 1个月以前发布</td>\n      <td>64.5万</td>\n      <td>单价12479元/平米</td>\n      <td>1室1厅</td>\n      <td>51.69平米</td>\n      <td>南</td>\n      <td>精装</td>\n      <td>高楼层(共15层)</td>\n      <td>2007年建</td>\n      <td>板楼</td>\n    </tr>\n  </tbody>\n</table>\n</div>"
     },
     "execution_count": 6,
     "metadata": {},
     "output_type": "execute_result"
    }
   ],
   "source": [
    "# 拆分房屋信息所在列，并将拆分结果增至新标签列\n",
    "data['户型'] = data.房屋信息.map(lambda x : x.split('|')[0])\n",
    "data['面积'] = data.房屋信息.map(lambda x : x.split('|')[1])\n",
    "data['朝向'] = data.房屋信息.map(lambda x : x.split('|')[2])\n",
    "data['类型'] = data.房屋信息.map(lambda x : x.split('|')[3])\n",
    "data['楼层'] = data.房屋信息.map(lambda x : x.split('|')[4])\n",
    "data['建成时间'] = data.房屋信息.map(lambda x : x.split('|')[5]) \n",
    "data['结构'] = data.房屋信息.map(lambda x : x.split('|')[6]) \n",
    "# 删除房屋信息列\n",
    "data = data.drop('房屋信息', axis = 1)\n",
    "data.head()"
   ]
  },
  {
   "cell_type": "code",
   "execution_count": 7,
   "metadata": {
    "ExecuteTime": {
     "end_time": "2023-05-26T00:39:35.952521800Z",
     "start_time": "2023-05-26T00:39:35.879500200Z"
    }
   },
   "outputs": [
    {
     "data": {
      "text/plain": "2    39045\nName: 关注信息, dtype: int64"
     },
     "execution_count": 7,
     "metadata": {},
     "output_type": "execute_result"
    }
   ],
   "source": [
    "# 检索每条关注信息记录中保存的信息个数\n",
    "nrec = data.关注信息.map(lambda x : len(x.split('/')))\n",
    "nrec.value_counts()"
   ]
  },
  {
   "cell_type": "code",
   "execution_count": 8,
   "metadata": {
    "ExecuteTime": {
     "end_time": "2023-05-26T00:39:35.993528600Z",
     "start_time": "2023-05-26T00:39:35.911501600Z"
    }
   },
   "outputs": [
    {
     "data": {
      "text/plain": "                       描述     位置信息  区域      总价           单价     户型         面积  \\\n0       威兰德装修套三对中庭，客户只给契税   威兰德小镇   双流   91.8万  单价10625元/平米  3室2厅     86.4平米    \n1  房子清水套三户型方正采光好无遮挡，视野开阔！  南湖逸家二期   双流  128.5万  单价19435元/平米  3室1厅    66.12平米    \n2     南湖逸家满二精装房，中间楼层，采光良好  南湖逸家二期   双流    153万  单价20791元/平米  3室1厅    73.59平米    \n3       佰客郡精装修房子配套成熟业主真心卖     佰客郡   双流     89万  单价11804元/平米  2室1厅     75.4平米    \n4      加贝书香尚品 精装修 带家具家电出售  加贝书香尚品   双流   64.5万  单价12479元/平米  1室1厅    51.69平米    \n\n      朝向    类型           楼层      建成时间     结构     关注人数      发布时间  \n0     东    简装    中楼层(共26层)    2016年建      塔楼  135人关注    6个月以前发布  \n1     东    毛坯    高楼层(共33层)    2017年建    板塔结合   40人关注    2个月以前发布  \n2     南    精装    中楼层(共34层)    2017年建    板塔结合   58人关注    15天以前发布  \n3   东 北    简装    中楼层(共16层)    2011年建      板楼   36人关注    2个月以前发布  \n4     南    精装    高楼层(共15层)    2007年建      板楼   38人关注    1个月以前发布  ",
      "text/html": "<div>\n<style scoped>\n    .dataframe tbody tr th:only-of-type {\n        vertical-align: middle;\n    }\n\n    .dataframe tbody tr th {\n        vertical-align: top;\n    }\n\n    .dataframe thead th {\n        text-align: right;\n    }\n</style>\n<table border=\"1\" class=\"dataframe\">\n  <thead>\n    <tr style=\"text-align: right;\">\n      <th></th>\n      <th>描述</th>\n      <th>位置信息</th>\n      <th>区域</th>\n      <th>总价</th>\n      <th>单价</th>\n      <th>户型</th>\n      <th>面积</th>\n      <th>朝向</th>\n      <th>类型</th>\n      <th>楼层</th>\n      <th>建成时间</th>\n      <th>结构</th>\n      <th>关注人数</th>\n      <th>发布时间</th>\n    </tr>\n  </thead>\n  <tbody>\n    <tr>\n      <th>0</th>\n      <td>威兰德装修套三对中庭，客户只给契税</td>\n      <td>威兰德小镇</td>\n      <td>双流</td>\n      <td>91.8万</td>\n      <td>单价10625元/平米</td>\n      <td>3室2厅</td>\n      <td>86.4平米</td>\n      <td>东</td>\n      <td>简装</td>\n      <td>中楼层(共26层)</td>\n      <td>2016年建</td>\n      <td>塔楼</td>\n      <td>135人关注</td>\n      <td>6个月以前发布</td>\n    </tr>\n    <tr>\n      <th>1</th>\n      <td>房子清水套三户型方正采光好无遮挡，视野开阔！</td>\n      <td>南湖逸家二期</td>\n      <td>双流</td>\n      <td>128.5万</td>\n      <td>单价19435元/平米</td>\n      <td>3室1厅</td>\n      <td>66.12平米</td>\n      <td>东</td>\n      <td>毛坯</td>\n      <td>高楼层(共33层)</td>\n      <td>2017年建</td>\n      <td>板塔结合</td>\n      <td>40人关注</td>\n      <td>2个月以前发布</td>\n    </tr>\n    <tr>\n      <th>2</th>\n      <td>南湖逸家满二精装房，中间楼层，采光良好</td>\n      <td>南湖逸家二期</td>\n      <td>双流</td>\n      <td>153万</td>\n      <td>单价20791元/平米</td>\n      <td>3室1厅</td>\n      <td>73.59平米</td>\n      <td>南</td>\n      <td>精装</td>\n      <td>中楼层(共34层)</td>\n      <td>2017年建</td>\n      <td>板塔结合</td>\n      <td>58人关注</td>\n      <td>15天以前发布</td>\n    </tr>\n    <tr>\n      <th>3</th>\n      <td>佰客郡精装修房子配套成熟业主真心卖</td>\n      <td>佰客郡</td>\n      <td>双流</td>\n      <td>89万</td>\n      <td>单价11804元/平米</td>\n      <td>2室1厅</td>\n      <td>75.4平米</td>\n      <td>东 北</td>\n      <td>简装</td>\n      <td>中楼层(共16层)</td>\n      <td>2011年建</td>\n      <td>板楼</td>\n      <td>36人关注</td>\n      <td>2个月以前发布</td>\n    </tr>\n    <tr>\n      <th>4</th>\n      <td>加贝书香尚品 精装修 带家具家电出售</td>\n      <td>加贝书香尚品</td>\n      <td>双流</td>\n      <td>64.5万</td>\n      <td>单价12479元/平米</td>\n      <td>1室1厅</td>\n      <td>51.69平米</td>\n      <td>南</td>\n      <td>精装</td>\n      <td>高楼层(共15层)</td>\n      <td>2007年建</td>\n      <td>板楼</td>\n      <td>38人关注</td>\n      <td>1个月以前发布</td>\n    </tr>\n  </tbody>\n</table>\n</div>"
     },
     "execution_count": 8,
     "metadata": {},
     "output_type": "execute_result"
    }
   ],
   "source": [
    "# 拆分关注信息所在列，并将拆分结果增至新标签列\n",
    "data['关注人数'] = data.关注信息.map(lambda x : x.split('/')[0])\n",
    "data['发布时间'] = data.关注信息.map(lambda x : x.split('/')[1])\n",
    " \n",
    "# 删除房屋信息列\n",
    "data = data.drop('关注信息', axis = 1)\n",
    "\n",
    "data.head()"
   ]
  },
  {
   "cell_type": "code",
   "execution_count": 9,
   "metadata": {
    "ExecuteTime": {
     "end_time": "2023-05-26T00:39:36.084542800Z",
     "start_time": "2023-05-26T00:39:35.975519200Z"
    }
   },
   "outputs": [
    {
     "data": {
      "text/plain": "          描述   位置信息     区域     总价     单价     户型     面积     朝向     类型     楼层  \\\n0      False  False  False  False  False  False  False  False  False  False   \n1      False  False  False  False  False  False  False  False  False  False   \n2      False  False  False  False  False  False  False  False  False  False   \n3      False  False  False  False  False  False  False  False  False  False   \n4      False  False  False  False  False  False  False  False  False  False   \n...      ...    ...    ...    ...    ...    ...    ...    ...    ...    ...   \n52248  False  False  False  False  False  False  False  False  False  False   \n52249  False  False  False  False  False  False  False  False  False  False   \n52250  False  False  False  False  False  False  False  False  False  False   \n52251  False  False  False  False  False  False  False  False  False  False   \n52254  False  False  False  False  False  False  False  False  False  False   \n\n        建成时间     结构   关注人数   发布时间  \n0      False  False  False  False  \n1      False  False  False  False  \n2      False  False  False  False  \n3      False  False  False  False  \n4      False  False  False  False  \n...      ...    ...    ...    ...  \n52248  False  False  False  False  \n52249  False  False  False  False  \n52250  False  False  False  False  \n52251  False  False  False  False  \n52254  False  False  False  False  \n\n[39045 rows x 14 columns]",
      "text/html": "<div>\n<style scoped>\n    .dataframe tbody tr th:only-of-type {\n        vertical-align: middle;\n    }\n\n    .dataframe tbody tr th {\n        vertical-align: top;\n    }\n\n    .dataframe thead th {\n        text-align: right;\n    }\n</style>\n<table border=\"1\" class=\"dataframe\">\n  <thead>\n    <tr style=\"text-align: right;\">\n      <th></th>\n      <th>描述</th>\n      <th>位置信息</th>\n      <th>区域</th>\n      <th>总价</th>\n      <th>单价</th>\n      <th>户型</th>\n      <th>面积</th>\n      <th>朝向</th>\n      <th>类型</th>\n      <th>楼层</th>\n      <th>建成时间</th>\n      <th>结构</th>\n      <th>关注人数</th>\n      <th>发布时间</th>\n    </tr>\n  </thead>\n  <tbody>\n    <tr>\n      <th>0</th>\n      <td>False</td>\n      <td>False</td>\n      <td>False</td>\n      <td>False</td>\n      <td>False</td>\n      <td>False</td>\n      <td>False</td>\n      <td>False</td>\n      <td>False</td>\n      <td>False</td>\n      <td>False</td>\n      <td>False</td>\n      <td>False</td>\n      <td>False</td>\n    </tr>\n    <tr>\n      <th>1</th>\n      <td>False</td>\n      <td>False</td>\n      <td>False</td>\n      <td>False</td>\n      <td>False</td>\n      <td>False</td>\n      <td>False</td>\n      <td>False</td>\n      <td>False</td>\n      <td>False</td>\n      <td>False</td>\n      <td>False</td>\n      <td>False</td>\n      <td>False</td>\n    </tr>\n    <tr>\n      <th>2</th>\n      <td>False</td>\n      <td>False</td>\n      <td>False</td>\n      <td>False</td>\n      <td>False</td>\n      <td>False</td>\n      <td>False</td>\n      <td>False</td>\n      <td>False</td>\n      <td>False</td>\n      <td>False</td>\n      <td>False</td>\n      <td>False</td>\n      <td>False</td>\n    </tr>\n    <tr>\n      <th>3</th>\n      <td>False</td>\n      <td>False</td>\n      <td>False</td>\n      <td>False</td>\n      <td>False</td>\n      <td>False</td>\n      <td>False</td>\n      <td>False</td>\n      <td>False</td>\n      <td>False</td>\n      <td>False</td>\n      <td>False</td>\n      <td>False</td>\n      <td>False</td>\n    </tr>\n    <tr>\n      <th>4</th>\n      <td>False</td>\n      <td>False</td>\n      <td>False</td>\n      <td>False</td>\n      <td>False</td>\n      <td>False</td>\n      <td>False</td>\n      <td>False</td>\n      <td>False</td>\n      <td>False</td>\n      <td>False</td>\n      <td>False</td>\n      <td>False</td>\n      <td>False</td>\n    </tr>\n    <tr>\n      <th>...</th>\n      <td>...</td>\n      <td>...</td>\n      <td>...</td>\n      <td>...</td>\n      <td>...</td>\n      <td>...</td>\n      <td>...</td>\n      <td>...</td>\n      <td>...</td>\n      <td>...</td>\n      <td>...</td>\n      <td>...</td>\n      <td>...</td>\n      <td>...</td>\n    </tr>\n    <tr>\n      <th>52248</th>\n      <td>False</td>\n      <td>False</td>\n      <td>False</td>\n      <td>False</td>\n      <td>False</td>\n      <td>False</td>\n      <td>False</td>\n      <td>False</td>\n      <td>False</td>\n      <td>False</td>\n      <td>False</td>\n      <td>False</td>\n      <td>False</td>\n      <td>False</td>\n    </tr>\n    <tr>\n      <th>52249</th>\n      <td>False</td>\n      <td>False</td>\n      <td>False</td>\n      <td>False</td>\n      <td>False</td>\n      <td>False</td>\n      <td>False</td>\n      <td>False</td>\n      <td>False</td>\n      <td>False</td>\n      <td>False</td>\n      <td>False</td>\n      <td>False</td>\n      <td>False</td>\n    </tr>\n    <tr>\n      <th>52250</th>\n      <td>False</td>\n      <td>False</td>\n      <td>False</td>\n      <td>False</td>\n      <td>False</td>\n      <td>False</td>\n      <td>False</td>\n      <td>False</td>\n      <td>False</td>\n      <td>False</td>\n      <td>False</td>\n      <td>False</td>\n      <td>False</td>\n      <td>False</td>\n    </tr>\n    <tr>\n      <th>52251</th>\n      <td>False</td>\n      <td>False</td>\n      <td>False</td>\n      <td>False</td>\n      <td>False</td>\n      <td>False</td>\n      <td>False</td>\n      <td>False</td>\n      <td>False</td>\n      <td>False</td>\n      <td>False</td>\n      <td>False</td>\n      <td>False</td>\n      <td>False</td>\n    </tr>\n    <tr>\n      <th>52254</th>\n      <td>False</td>\n      <td>False</td>\n      <td>False</td>\n      <td>False</td>\n      <td>False</td>\n      <td>False</td>\n      <td>False</td>\n      <td>False</td>\n      <td>False</td>\n      <td>False</td>\n      <td>False</td>\n      <td>False</td>\n      <td>False</td>\n      <td>False</td>\n    </tr>\n  </tbody>\n</table>\n<p>39045 rows × 14 columns</p>\n</div>"
     },
     "execution_count": 9,
     "metadata": {},
     "output_type": "execute_result"
    }
   ],
   "source": [
    "# 缺失值检查\n",
    "data.isnull()"
   ]
  },
  {
   "cell_type": "code",
   "execution_count": 10,
   "metadata": {
    "ExecuteTime": {
     "end_time": "2023-05-26T00:39:36.167570200Z",
     "start_time": "2023-05-26T00:39:36.057536700Z"
    }
   },
   "outputs": [
    {
     "data": {
      "text/plain": "描述      0\n位置信息    0\n区域      0\n总价      0\n单价      0\n户型      0\n面积      0\n朝向      0\n类型      0\n楼层      0\n建成时间    0\n结构      0\n关注人数    0\n发布时间    0\ndtype: int64"
     },
     "execution_count": 10,
     "metadata": {},
     "output_type": "execute_result"
    }
   ],
   "source": [
    "# 统计缺失值个数\n",
    "(data.isnull()).sum()"
   ]
  },
  {
   "cell_type": "code",
   "execution_count": 11,
   "metadata": {
    "ExecuteTime": {
     "end_time": "2023-05-26T00:39:36.242585500Z",
     "start_time": "2023-05-26T00:39:36.133549300Z"
    }
   },
   "outputs": [
    {
     "data": {
      "text/plain": "16"
     },
     "execution_count": 11,
     "metadata": {},
     "output_type": "execute_result"
    }
   ],
   "source": [
    "# 检查重复值\n",
    "(data.duplicated()).sum()"
   ]
  },
  {
   "cell_type": "code",
   "execution_count": 12,
   "metadata": {
    "ExecuteTime": {
     "end_time": "2023-05-26T00:39:36.308607100Z",
     "start_time": "2023-05-26T00:39:36.242585500Z"
    }
   },
   "outputs": [],
   "source": [
    "# 抛弃重复值\n",
    "data.drop_duplicates(inplace=True)"
   ]
  },
  {
   "cell_type": "code",
   "execution_count": 13,
   "metadata": {
    "ExecuteTime": {
     "end_time": "2023-05-26T00:39:36.388613200Z",
     "start_time": "2023-05-26T00:39:36.310596200Z"
    }
   },
   "outputs": [
    {
     "data": {
      "text/plain": "array(['万'], dtype=object)"
     },
     "execution_count": 13,
     "metadata": {},
     "output_type": "execute_result"
    }
   ],
   "source": [
    "# 使用正则表达式查看单价列中含有的中文字符种类\n",
    "data.总价.map(lambda x : re.sub('[^\\u4E00-\\u9FA5]','',x)).unique()"
   ]
  },
  {
   "cell_type": "code",
   "execution_count": 14,
   "metadata": {
    "ExecuteTime": {
     "end_time": "2023-05-26T00:39:36.470247400Z",
     "start_time": "2023-05-26T00:39:36.393614Z"
    }
   },
   "outputs": [
    {
     "data": {
      "text/plain": "                       描述     位置信息  区域     总价           单价     户型         面积  \\\n0       威兰德装修套三对中庭，客户只给契税   威兰德小镇   双流   91.8  单价10625元/平米  3室2厅     86.4平米    \n1  房子清水套三户型方正采光好无遮挡，视野开阔！  南湖逸家二期   双流  128.5  单价19435元/平米  3室1厅    66.12平米    \n2     南湖逸家满二精装房，中间楼层，采光良好  南湖逸家二期   双流  153.0  单价20791元/平米  3室1厅    73.59平米    \n3       佰客郡精装修房子配套成熟业主真心卖     佰客郡   双流   89.0  单价11804元/平米  2室1厅     75.4平米    \n4      加贝书香尚品 精装修 带家具家电出售  加贝书香尚品   双流   64.5  单价12479元/平米  1室1厅    51.69平米    \n\n      朝向    类型           楼层      建成时间     结构     关注人数      发布时间  \n0     东    简装    中楼层(共26层)    2016年建      塔楼  135人关注    6个月以前发布  \n1     东    毛坯    高楼层(共33层)    2017年建    板塔结合   40人关注    2个月以前发布  \n2     南    精装    中楼层(共34层)    2017年建    板塔结合   58人关注    15天以前发布  \n3   东 北    简装    中楼层(共16层)    2011年建      板楼   36人关注    2个月以前发布  \n4     南    精装    高楼层(共15层)    2007年建      板楼   38人关注    1个月以前发布  ",
      "text/html": "<div>\n<style scoped>\n    .dataframe tbody tr th:only-of-type {\n        vertical-align: middle;\n    }\n\n    .dataframe tbody tr th {\n        vertical-align: top;\n    }\n\n    .dataframe thead th {\n        text-align: right;\n    }\n</style>\n<table border=\"1\" class=\"dataframe\">\n  <thead>\n    <tr style=\"text-align: right;\">\n      <th></th>\n      <th>描述</th>\n      <th>位置信息</th>\n      <th>区域</th>\n      <th>总价</th>\n      <th>单价</th>\n      <th>户型</th>\n      <th>面积</th>\n      <th>朝向</th>\n      <th>类型</th>\n      <th>楼层</th>\n      <th>建成时间</th>\n      <th>结构</th>\n      <th>关注人数</th>\n      <th>发布时间</th>\n    </tr>\n  </thead>\n  <tbody>\n    <tr>\n      <th>0</th>\n      <td>威兰德装修套三对中庭，客户只给契税</td>\n      <td>威兰德小镇</td>\n      <td>双流</td>\n      <td>91.8</td>\n      <td>单价10625元/平米</td>\n      <td>3室2厅</td>\n      <td>86.4平米</td>\n      <td>东</td>\n      <td>简装</td>\n      <td>中楼层(共26层)</td>\n      <td>2016年建</td>\n      <td>塔楼</td>\n      <td>135人关注</td>\n      <td>6个月以前发布</td>\n    </tr>\n    <tr>\n      <th>1</th>\n      <td>房子清水套三户型方正采光好无遮挡，视野开阔！</td>\n      <td>南湖逸家二期</td>\n      <td>双流</td>\n      <td>128.5</td>\n      <td>单价19435元/平米</td>\n      <td>3室1厅</td>\n      <td>66.12平米</td>\n      <td>东</td>\n      <td>毛坯</td>\n      <td>高楼层(共33层)</td>\n      <td>2017年建</td>\n      <td>板塔结合</td>\n      <td>40人关注</td>\n      <td>2个月以前发布</td>\n    </tr>\n    <tr>\n      <th>2</th>\n      <td>南湖逸家满二精装房，中间楼层，采光良好</td>\n      <td>南湖逸家二期</td>\n      <td>双流</td>\n      <td>153.0</td>\n      <td>单价20791元/平米</td>\n      <td>3室1厅</td>\n      <td>73.59平米</td>\n      <td>南</td>\n      <td>精装</td>\n      <td>中楼层(共34层)</td>\n      <td>2017年建</td>\n      <td>板塔结合</td>\n      <td>58人关注</td>\n      <td>15天以前发布</td>\n    </tr>\n    <tr>\n      <th>3</th>\n      <td>佰客郡精装修房子配套成熟业主真心卖</td>\n      <td>佰客郡</td>\n      <td>双流</td>\n      <td>89.0</td>\n      <td>单价11804元/平米</td>\n      <td>2室1厅</td>\n      <td>75.4平米</td>\n      <td>东 北</td>\n      <td>简装</td>\n      <td>中楼层(共16层)</td>\n      <td>2011年建</td>\n      <td>板楼</td>\n      <td>36人关注</td>\n      <td>2个月以前发布</td>\n    </tr>\n    <tr>\n      <th>4</th>\n      <td>加贝书香尚品 精装修 带家具家电出售</td>\n      <td>加贝书香尚品</td>\n      <td>双流</td>\n      <td>64.5</td>\n      <td>单价12479元/平米</td>\n      <td>1室1厅</td>\n      <td>51.69平米</td>\n      <td>南</td>\n      <td>精装</td>\n      <td>高楼层(共15层)</td>\n      <td>2007年建</td>\n      <td>板楼</td>\n      <td>38人关注</td>\n      <td>1个月以前发布</td>\n    </tr>\n  </tbody>\n</table>\n</div>"
     },
     "execution_count": 14,
     "metadata": {},
     "output_type": "execute_result"
    }
   ],
   "source": [
    "# 删去字符“万”，并将类型转换为float，并保留两位小数\n",
    "data['总价'] = data.总价.map(lambda x : round(float(x.replace('万', '')),2))\n",
    "data.head(5)"
   ]
  },
  {
   "cell_type": "code",
   "execution_count": 15,
   "metadata": {
    "ExecuteTime": {
     "end_time": "2023-05-26T00:39:36.787243500Z",
     "start_time": "2023-05-26T00:39:36.471242900Z"
    }
   },
   "outputs": [
    {
     "name": "stdout",
     "output_type": "stream",
     "text": [
      "['单价元平米']\n",
      "['平米']\n",
      "['年建' '板塔结合' '板楼' '暂无数据' '塔楼']\n",
      "['人关注']\n"
     ]
    }
   ],
   "source": [
    "# 依次检查其他列所含的中文字符\n",
    "print(data.单价.map(lambda x : re.sub('[^\\u4E00-\\u9FA5]','',x)).unique())\n",
    "print(data.面积.map(lambda x : re.sub('[^\\u4E00-\\u9FA5]','',x)).unique())\n",
    "print(data.建成时间.map(lambda x : re.sub('[^\\u4E00-\\u9FA5]','',x)).unique())\n",
    "print(data.关注人数.map(lambda x : re.sub('[^\\u4E00-\\u9FA5]','',x)).unique())"
   ]
  },
  {
   "cell_type": "code",
   "execution_count": 16,
   "metadata": {
    "ExecuteTime": {
     "end_time": "2023-05-26T00:39:36.853658Z",
     "start_time": "2023-05-26T00:39:36.808241300Z"
    }
   },
   "outputs": [
    {
     "data": {
      "text/plain": "245"
     },
     "execution_count": 16,
     "metadata": {},
     "output_type": "execute_result"
    }
   ],
   "source": [
    "# 建成时间列不包括关键字'年建'的记录数\n",
    "len(data[~data.建成时间.str.contains('年建')])"
   ]
  },
  {
   "cell_type": "code",
   "execution_count": 17,
   "metadata": {
    "ExecuteTime": {
     "end_time": "2023-05-26T00:39:36.853658Z",
     "start_time": "2023-05-26T00:39:36.820244600Z"
    }
   },
   "outputs": [],
   "source": [
    "# 只保留含关键字'年建'的记录\n",
    "data = data[data.建成时间.str.contains('年建')]"
   ]
  },
  {
   "cell_type": "code",
   "execution_count": 18,
   "metadata": {
    "ExecuteTime": {
     "end_time": "2023-05-26T00:39:37.096725200Z",
     "start_time": "2023-05-26T00:39:36.854658800Z"
    }
   },
   "outputs": [
    {
     "data": {
      "text/plain": "                       描述     位置信息  区域     总价    单价     户型     面积     朝向  \\\n0       威兰德装修套三对中庭，客户只给契税   威兰德小镇   双流   91.8  1.06  3室2厅   86.40     东    \n1  房子清水套三户型方正采光好无遮挡，视野开阔！  南湖逸家二期   双流  128.5  1.94  3室1厅   66.12     东    \n2     南湖逸家满二精装房，中间楼层，采光良好  南湖逸家二期   双流  153.0  2.08  3室1厅   73.59     南    \n3       佰客郡精装修房子配套成熟业主真心卖     佰客郡   双流   89.0  1.18  2室1厅   75.40   东 北    \n4      加贝书香尚品 精装修 带家具家电出售  加贝书香尚品   双流   64.5  1.25  1室1厅   51.69     南    \n\n     类型           楼层    建成时间     结构   关注人数      发布时间  \n0   简装    中楼层(共26层)   2016.0     塔楼  135.0   6个月以前发布  \n1   毛坯    高楼层(共33层)   2017.0   板塔结合   40.0   2个月以前发布  \n2   精装    中楼层(共34层)   2017.0   板塔结合   58.0   15天以前发布  \n3   简装    中楼层(共16层)   2011.0     板楼   36.0   2个月以前发布  \n4   精装    高楼层(共15层)   2007.0     板楼   38.0   1个月以前发布  ",
      "text/html": "<div>\n<style scoped>\n    .dataframe tbody tr th:only-of-type {\n        vertical-align: middle;\n    }\n\n    .dataframe tbody tr th {\n        vertical-align: top;\n    }\n\n    .dataframe thead th {\n        text-align: right;\n    }\n</style>\n<table border=\"1\" class=\"dataframe\">\n  <thead>\n    <tr style=\"text-align: right;\">\n      <th></th>\n      <th>描述</th>\n      <th>位置信息</th>\n      <th>区域</th>\n      <th>总价</th>\n      <th>单价</th>\n      <th>户型</th>\n      <th>面积</th>\n      <th>朝向</th>\n      <th>类型</th>\n      <th>楼层</th>\n      <th>建成时间</th>\n      <th>结构</th>\n      <th>关注人数</th>\n      <th>发布时间</th>\n    </tr>\n  </thead>\n  <tbody>\n    <tr>\n      <th>0</th>\n      <td>威兰德装修套三对中庭，客户只给契税</td>\n      <td>威兰德小镇</td>\n      <td>双流</td>\n      <td>91.8</td>\n      <td>1.06</td>\n      <td>3室2厅</td>\n      <td>86.40</td>\n      <td>东</td>\n      <td>简装</td>\n      <td>中楼层(共26层)</td>\n      <td>2016.0</td>\n      <td>塔楼</td>\n      <td>135.0</td>\n      <td>6个月以前发布</td>\n    </tr>\n    <tr>\n      <th>1</th>\n      <td>房子清水套三户型方正采光好无遮挡，视野开阔！</td>\n      <td>南湖逸家二期</td>\n      <td>双流</td>\n      <td>128.5</td>\n      <td>1.94</td>\n      <td>3室1厅</td>\n      <td>66.12</td>\n      <td>东</td>\n      <td>毛坯</td>\n      <td>高楼层(共33层)</td>\n      <td>2017.0</td>\n      <td>板塔结合</td>\n      <td>40.0</td>\n      <td>2个月以前发布</td>\n    </tr>\n    <tr>\n      <th>2</th>\n      <td>南湖逸家满二精装房，中间楼层，采光良好</td>\n      <td>南湖逸家二期</td>\n      <td>双流</td>\n      <td>153.0</td>\n      <td>2.08</td>\n      <td>3室1厅</td>\n      <td>73.59</td>\n      <td>南</td>\n      <td>精装</td>\n      <td>中楼层(共34层)</td>\n      <td>2017.0</td>\n      <td>板塔结合</td>\n      <td>58.0</td>\n      <td>15天以前发布</td>\n    </tr>\n    <tr>\n      <th>3</th>\n      <td>佰客郡精装修房子配套成熟业主真心卖</td>\n      <td>佰客郡</td>\n      <td>双流</td>\n      <td>89.0</td>\n      <td>1.18</td>\n      <td>2室1厅</td>\n      <td>75.40</td>\n      <td>东 北</td>\n      <td>简装</td>\n      <td>中楼层(共16层)</td>\n      <td>2011.0</td>\n      <td>板楼</td>\n      <td>36.0</td>\n      <td>2个月以前发布</td>\n    </tr>\n    <tr>\n      <th>4</th>\n      <td>加贝书香尚品 精装修 带家具家电出售</td>\n      <td>加贝书香尚品</td>\n      <td>双流</td>\n      <td>64.5</td>\n      <td>1.25</td>\n      <td>1室1厅</td>\n      <td>51.69</td>\n      <td>南</td>\n      <td>精装</td>\n      <td>高楼层(共15层)</td>\n      <td>2007.0</td>\n      <td>板楼</td>\n      <td>38.0</td>\n      <td>1个月以前发布</td>\n    </tr>\n  </tbody>\n</table>\n</div>"
     },
     "execution_count": 18,
     "metadata": {},
     "output_type": "execute_result"
    }
   ],
   "source": [
    "# 将单价列转换为float类型\n",
    "data['单价'] = data.单价.map(lambda x : round(float(re.findall(r'单价(.*?)元/平米',x)[0])/10000,2))\n",
    "# 将面积、建成时间和关注人数列转换为float类型\n",
    "data['面积'] = data.面积.map(lambda x : round(float(x.replace('平米','')),2))\n",
    "data['建成时间'] = data.建成时间.map(lambda x : float(x.replace('年建','')))\n",
    "data['关注人数'] = data.关注人数.map(lambda x : float(x.replace('人关注','')))\n",
    "\n",
    "data.head()"
   ]
  },
  {
   "cell_type": "code",
   "execution_count": 19,
   "metadata": {
    "ExecuteTime": {
     "end_time": "2023-05-26T00:39:37.129803900Z",
     "start_time": "2023-05-26T00:39:37.098727400Z"
    }
   },
   "outputs": [
    {
     "data": {
      "text/plain": "array(['3室2厅 ', '3室1厅 ', '2室1厅 ', '1室1厅 ', '2室2厅 ', '4室2厅 ', '5室2厅 ',\n       '4室1厅 ', '1室2厅 ', '3室3厅 ', '1室0厅 ', '5室1厅 ', '6室2厅 ', '4室3厅 ',\n       '6室1厅 ', '3室0厅 ', '6室4厅 ', '5室3厅 ', '4室4厅 ', '6室3厅 ', '7室2厅 ',\n       '7室3厅 ', '2室0厅 ', '4室0厅 ', '5室0厅 ', '8室2厅 ', '3室4厅 ', '7室1厅 ',\n       '7室4厅 ', '9室2厅 ', '8室3厅 ', '5室4厅 ', '0室1厅 ', '7室5厅 ', '0室0厅 '],\n      dtype=object)"
     },
     "execution_count": 19,
     "metadata": {},
     "output_type": "execute_result"
    }
   ],
   "source": [
    "# 查看户型有多少种类\n",
    "data.户型.unique()"
   ]
  },
  {
   "cell_type": "code",
   "execution_count": 20,
   "metadata": {
    "ExecuteTime": {
     "end_time": "2023-05-26T00:39:37.230380200Z",
     "start_time": "2023-05-26T00:39:37.113791800Z"
    }
   },
   "outputs": [
    {
     "data": {
      "text/plain": "                       描述     位置信息  区域     总价    单价     面积     朝向    类型  \\\n0       威兰德装修套三对中庭，客户只给契税   威兰德小镇   双流   91.8  1.06  86.40     东    简装    \n1  房子清水套三户型方正采光好无遮挡，视野开阔！  南湖逸家二期   双流  128.5  1.94  66.12     东    毛坯    \n2     南湖逸家满二精装房，中间楼层，采光良好  南湖逸家二期   双流  153.0  2.08  73.59     南    精装    \n3       佰客郡精装修房子配套成熟业主真心卖     佰客郡   双流   89.0  1.18  75.40   东 北    简装    \n4      加贝书香尚品 精装修 带家具家电出售  加贝书香尚品   双流   64.5  1.25  51.69     南    精装    \n\n            楼层    建成时间  ... 6室3厅   6室4厅  7室1厅   7室2厅   7室3厅   7室4厅   7室5厅   \\\n0   中楼层(共26层)   2016.0  ...     0      0     0      0      0      0      0   \n1   高楼层(共33层)   2017.0  ...     0      0     0      0      0      0      0   \n2   中楼层(共34层)   2017.0  ...     0      0     0      0      0      0      0   \n3   中楼层(共16层)   2011.0  ...     0      0     0      0      0      0      0   \n4   高楼层(共15层)   2007.0  ...     0      0     0      0      0      0      0   \n\n   8室2厅   8室3厅   9室2厅   \n0      0      0      0  \n1      0      0      0  \n2      0      0      0  \n3      0      0      0  \n4      0      0      0  \n\n[5 rows x 48 columns]",
      "text/html": "<div>\n<style scoped>\n    .dataframe tbody tr th:only-of-type {\n        vertical-align: middle;\n    }\n\n    .dataframe tbody tr th {\n        vertical-align: top;\n    }\n\n    .dataframe thead th {\n        text-align: right;\n    }\n</style>\n<table border=\"1\" class=\"dataframe\">\n  <thead>\n    <tr style=\"text-align: right;\">\n      <th></th>\n      <th>描述</th>\n      <th>位置信息</th>\n      <th>区域</th>\n      <th>总价</th>\n      <th>单价</th>\n      <th>面积</th>\n      <th>朝向</th>\n      <th>类型</th>\n      <th>楼层</th>\n      <th>建成时间</th>\n      <th>...</th>\n      <th>6室3厅</th>\n      <th>6室4厅</th>\n      <th>7室1厅</th>\n      <th>7室2厅</th>\n      <th>7室3厅</th>\n      <th>7室4厅</th>\n      <th>7室5厅</th>\n      <th>8室2厅</th>\n      <th>8室3厅</th>\n      <th>9室2厅</th>\n    </tr>\n  </thead>\n  <tbody>\n    <tr>\n      <th>0</th>\n      <td>威兰德装修套三对中庭，客户只给契税</td>\n      <td>威兰德小镇</td>\n      <td>双流</td>\n      <td>91.8</td>\n      <td>1.06</td>\n      <td>86.40</td>\n      <td>东</td>\n      <td>简装</td>\n      <td>中楼层(共26层)</td>\n      <td>2016.0</td>\n      <td>...</td>\n      <td>0</td>\n      <td>0</td>\n      <td>0</td>\n      <td>0</td>\n      <td>0</td>\n      <td>0</td>\n      <td>0</td>\n      <td>0</td>\n      <td>0</td>\n      <td>0</td>\n    </tr>\n    <tr>\n      <th>1</th>\n      <td>房子清水套三户型方正采光好无遮挡，视野开阔！</td>\n      <td>南湖逸家二期</td>\n      <td>双流</td>\n      <td>128.5</td>\n      <td>1.94</td>\n      <td>66.12</td>\n      <td>东</td>\n      <td>毛坯</td>\n      <td>高楼层(共33层)</td>\n      <td>2017.0</td>\n      <td>...</td>\n      <td>0</td>\n      <td>0</td>\n      <td>0</td>\n      <td>0</td>\n      <td>0</td>\n      <td>0</td>\n      <td>0</td>\n      <td>0</td>\n      <td>0</td>\n      <td>0</td>\n    </tr>\n    <tr>\n      <th>2</th>\n      <td>南湖逸家满二精装房，中间楼层，采光良好</td>\n      <td>南湖逸家二期</td>\n      <td>双流</td>\n      <td>153.0</td>\n      <td>2.08</td>\n      <td>73.59</td>\n      <td>南</td>\n      <td>精装</td>\n      <td>中楼层(共34层)</td>\n      <td>2017.0</td>\n      <td>...</td>\n      <td>0</td>\n      <td>0</td>\n      <td>0</td>\n      <td>0</td>\n      <td>0</td>\n      <td>0</td>\n      <td>0</td>\n      <td>0</td>\n      <td>0</td>\n      <td>0</td>\n    </tr>\n    <tr>\n      <th>3</th>\n      <td>佰客郡精装修房子配套成熟业主真心卖</td>\n      <td>佰客郡</td>\n      <td>双流</td>\n      <td>89.0</td>\n      <td>1.18</td>\n      <td>75.40</td>\n      <td>东 北</td>\n      <td>简装</td>\n      <td>中楼层(共16层)</td>\n      <td>2011.0</td>\n      <td>...</td>\n      <td>0</td>\n      <td>0</td>\n      <td>0</td>\n      <td>0</td>\n      <td>0</td>\n      <td>0</td>\n      <td>0</td>\n      <td>0</td>\n      <td>0</td>\n      <td>0</td>\n    </tr>\n    <tr>\n      <th>4</th>\n      <td>加贝书香尚品 精装修 带家具家电出售</td>\n      <td>加贝书香尚品</td>\n      <td>双流</td>\n      <td>64.5</td>\n      <td>1.25</td>\n      <td>51.69</td>\n      <td>南</td>\n      <td>精装</td>\n      <td>高楼层(共15层)</td>\n      <td>2007.0</td>\n      <td>...</td>\n      <td>0</td>\n      <td>0</td>\n      <td>0</td>\n      <td>0</td>\n      <td>0</td>\n      <td>0</td>\n      <td>0</td>\n      <td>0</td>\n      <td>0</td>\n      <td>0</td>\n    </tr>\n  </tbody>\n</table>\n<p>5 rows × 48 columns</p>\n</div>"
     },
     "execution_count": 20,
     "metadata": {},
     "output_type": "execute_result"
    }
   ],
   "source": [
    "# 对户型使用独热编码并加入到原有数据帧中\n",
    "data = data.join(pd.get_dummies(data.户型))\n",
    "# 删除原有列\n",
    "data = data.drop('户型', axis = 1)\n",
    "\n",
    "data.head()"
   ]
  },
  {
   "cell_type": "code",
   "execution_count": 21,
   "metadata": {
    "ExecuteTime": {
     "end_time": "2023-05-26T00:39:37.230380200Z",
     "start_time": "2023-05-26T00:39:37.178369Z"
    }
   },
   "outputs": [
    {
     "name": "stdout",
     "output_type": "stream",
     "text": [
      "['双流' '大邑' '天府新区' '天府新区南区' '崇州' '彭州' '成华' '新津' '新都' '武侯' '温江' '简阳' '蒲江'\n",
      " '郫都' '都江堰' '金堂' '金牛' '锦江' '青白江' '青羊' '高新' '高新西' '龙泉驿']\n"
     ]
    }
   ],
   "source": [
    "# 查看区域有多少种类\n",
    "print(data.区域.unique())"
   ]
  },
  {
   "cell_type": "code",
   "execution_count": 22,
   "metadata": {
    "ExecuteTime": {
     "end_time": "2023-05-26T00:39:37.231380800Z",
     "start_time": "2023-05-26T00:39:37.178369Z"
    }
   },
   "outputs": [],
   "source": [
    "# 对区域使用独热编码并加入到原有数据帧中\n",
    "data = data.join(pd.get_dummies(data.区域))"
   ]
  },
  {
   "cell_type": "code",
   "execution_count": 23,
   "metadata": {
    "ExecuteTime": {
     "end_time": "2023-05-26T00:39:37.267407400Z",
     "start_time": "2023-05-26T00:39:37.207381600Z"
    }
   },
   "outputs": [
    {
     "name": "stdout",
     "output_type": "stream",
     "text": [
      "[' 简装 ' ' 毛坯 ' ' 精装 ' ' 其他 ']\n",
      "[' 塔楼' ' 板塔结合' ' 板楼' ' 暂无数据' ' 平房']\n"
     ]
    }
   ],
   "source": [
    "# 查看类型有多少种类\n",
    "print(data.类型.unique())\n",
    "# 查看结构有多少种类\n",
    "print(data.结构.unique())"
   ]
  },
  {
   "cell_type": "code",
   "execution_count": 24,
   "metadata": {
    "ExecuteTime": {
     "end_time": "2023-05-26T00:39:37.360427600Z",
     "start_time": "2023-05-26T00:39:37.226380700Z"
    }
   },
   "outputs": [
    {
     "name": "stdout",
     "output_type": "stream",
     "text": [
      "5061\n",
      "683\n"
     ]
    }
   ],
   "source": [
    "# 去掉字符串前后空格\n",
    "data['类型'] = data.类型.str.strip()\n",
    "data['结构'] = data.结构.str.strip()\n",
    "\n",
    "# 查看类型为其他的记录个数\n",
    "print(len(data[data.类型 == '其他']))\n",
    "# 查看结构为暂无数据的记录个数\n",
    "print(len(data[data.结构 == '暂无数据']))"
   ]
  },
  {
   "cell_type": "code",
   "execution_count": 25,
   "metadata": {
    "ExecuteTime": {
     "end_time": "2023-05-26T00:39:37.388421800Z",
     "start_time": "2023-05-26T00:39:37.295396700Z"
    }
   },
   "outputs": [
    {
     "data": {
      "text/plain": "                       描述     位置信息  区域     总价    单价     面积     朝向  \\\n0       威兰德装修套三对中庭，客户只给契税   威兰德小镇   双流   91.8  1.06  86.40     东    \n1  房子清水套三户型方正采光好无遮挡，视野开阔！  南湖逸家二期   双流  128.5  1.94  66.12     东    \n2     南湖逸家满二精装房，中间楼层，采光良好  南湖逸家二期   双流  153.0  2.08  73.59     南    \n3       佰客郡精装修房子配套成熟业主真心卖     佰客郡   双流   89.0  1.18  75.40   东 北    \n4      加贝书香尚品 精装修 带家具家电出售  加贝书香尚品   双流   64.5  1.25  51.69     南    \n\n            楼层    建成时间   关注人数  ... 高新  高新西  龙泉驿  毛坯  简装  精装  塔楼  平房  板塔结合  板楼  \n0   中楼层(共26层)   2016.0  135.0  ...  0    0    0   0   1   0   1   0     0   0  \n1   高楼层(共33层)   2017.0   40.0  ...  0    0    0   1   0   0   0   0     1   0  \n2   中楼层(共34层)   2017.0   58.0  ...  0    0    0   0   0   1   0   0     1   0  \n3   中楼层(共16层)   2011.0   36.0  ...  0    0    0   0   1   0   0   0     0   1  \n4   高楼层(共15层)   2007.0   38.0  ...  0    0    0   0   0   1   0   0     0   1  \n\n[5 rows x 76 columns]",
      "text/html": "<div>\n<style scoped>\n    .dataframe tbody tr th:only-of-type {\n        vertical-align: middle;\n    }\n\n    .dataframe tbody tr th {\n        vertical-align: top;\n    }\n\n    .dataframe thead th {\n        text-align: right;\n    }\n</style>\n<table border=\"1\" class=\"dataframe\">\n  <thead>\n    <tr style=\"text-align: right;\">\n      <th></th>\n      <th>描述</th>\n      <th>位置信息</th>\n      <th>区域</th>\n      <th>总价</th>\n      <th>单价</th>\n      <th>面积</th>\n      <th>朝向</th>\n      <th>楼层</th>\n      <th>建成时间</th>\n      <th>关注人数</th>\n      <th>...</th>\n      <th>高新</th>\n      <th>高新西</th>\n      <th>龙泉驿</th>\n      <th>毛坯</th>\n      <th>简装</th>\n      <th>精装</th>\n      <th>塔楼</th>\n      <th>平房</th>\n      <th>板塔结合</th>\n      <th>板楼</th>\n    </tr>\n  </thead>\n  <tbody>\n    <tr>\n      <th>0</th>\n      <td>威兰德装修套三对中庭，客户只给契税</td>\n      <td>威兰德小镇</td>\n      <td>双流</td>\n      <td>91.8</td>\n      <td>1.06</td>\n      <td>86.40</td>\n      <td>东</td>\n      <td>中楼层(共26层)</td>\n      <td>2016.0</td>\n      <td>135.0</td>\n      <td>...</td>\n      <td>0</td>\n      <td>0</td>\n      <td>0</td>\n      <td>0</td>\n      <td>1</td>\n      <td>0</td>\n      <td>1</td>\n      <td>0</td>\n      <td>0</td>\n      <td>0</td>\n    </tr>\n    <tr>\n      <th>1</th>\n      <td>房子清水套三户型方正采光好无遮挡，视野开阔！</td>\n      <td>南湖逸家二期</td>\n      <td>双流</td>\n      <td>128.5</td>\n      <td>1.94</td>\n      <td>66.12</td>\n      <td>东</td>\n      <td>高楼层(共33层)</td>\n      <td>2017.0</td>\n      <td>40.0</td>\n      <td>...</td>\n      <td>0</td>\n      <td>0</td>\n      <td>0</td>\n      <td>1</td>\n      <td>0</td>\n      <td>0</td>\n      <td>0</td>\n      <td>0</td>\n      <td>1</td>\n      <td>0</td>\n    </tr>\n    <tr>\n      <th>2</th>\n      <td>南湖逸家满二精装房，中间楼层，采光良好</td>\n      <td>南湖逸家二期</td>\n      <td>双流</td>\n      <td>153.0</td>\n      <td>2.08</td>\n      <td>73.59</td>\n      <td>南</td>\n      <td>中楼层(共34层)</td>\n      <td>2017.0</td>\n      <td>58.0</td>\n      <td>...</td>\n      <td>0</td>\n      <td>0</td>\n      <td>0</td>\n      <td>0</td>\n      <td>0</td>\n      <td>1</td>\n      <td>0</td>\n      <td>0</td>\n      <td>1</td>\n      <td>0</td>\n    </tr>\n    <tr>\n      <th>3</th>\n      <td>佰客郡精装修房子配套成熟业主真心卖</td>\n      <td>佰客郡</td>\n      <td>双流</td>\n      <td>89.0</td>\n      <td>1.18</td>\n      <td>75.40</td>\n      <td>东 北</td>\n      <td>中楼层(共16层)</td>\n      <td>2011.0</td>\n      <td>36.0</td>\n      <td>...</td>\n      <td>0</td>\n      <td>0</td>\n      <td>0</td>\n      <td>0</td>\n      <td>1</td>\n      <td>0</td>\n      <td>0</td>\n      <td>0</td>\n      <td>0</td>\n      <td>1</td>\n    </tr>\n    <tr>\n      <th>4</th>\n      <td>加贝书香尚品 精装修 带家具家电出售</td>\n      <td>加贝书香尚品</td>\n      <td>双流</td>\n      <td>64.5</td>\n      <td>1.25</td>\n      <td>51.69</td>\n      <td>南</td>\n      <td>高楼层(共15层)</td>\n      <td>2007.0</td>\n      <td>38.0</td>\n      <td>...</td>\n      <td>0</td>\n      <td>0</td>\n      <td>0</td>\n      <td>0</td>\n      <td>0</td>\n      <td>1</td>\n      <td>0</td>\n      <td>0</td>\n      <td>0</td>\n      <td>1</td>\n    </tr>\n  </tbody>\n</table>\n<p>5 rows × 76 columns</p>\n</div>"
     },
     "execution_count": 25,
     "metadata": {},
     "output_type": "execute_result"
    }
   ],
   "source": [
    "# 丢弃无效数据\n",
    "data = data[(data.类型 != '其他')&(data.结构 != '暂无数据')]\n",
    "\n",
    "data = data.join(pd.get_dummies(data.类型))\n",
    "data = data.join(pd.get_dummies(data.结构))\n",
    "# 删除原有列\n",
    "data = data.drop('类型', axis = 1)\n",
    "data = data.drop('结构', axis = 1)\n",
    "data.head()"
   ]
  },
  {
   "cell_type": "code",
   "execution_count": 26,
   "metadata": {
    "ExecuteTime": {
     "end_time": "2023-05-26T00:39:37.423435900Z",
     "start_time": "2023-05-26T00:39:37.380414100Z"
    }
   },
   "outputs": [
    {
     "data": {
      "text/plain": "array([' 东 ', ' 南 ', ' 东 北 ', ' 西北 ', ' 西 ', ' 南 北 ', ' 东 西 ', ' 东北 ',\n       ' 东南 ', ' 北 ', ' 西南 ', ' 西北 北 ', ' 西南 西 ', ' 东 南 ', ' 南 西南 ',\n       ' 东南 南 ', ' 西 西北 ', ' 东 东南 ', ' 东南 西 ', ' 南 西 ', ' 东南 西南 ',\n       ' 西南 东北 ', ' 东 西南 ', ' 北 南 ', ' 东 东南 南 ', ' 西 西南 ', ' 西 北 ',\n       ' 西南 北 ', ' 北 东北 ', ' 东南 北 ', ' 东南 东北 ', ' 西南 南 东南 ', ' 东 北 西南 ',\n       ' 东 西北 ', ' 东 东南 西 ', ' 南 东南 ', ' 西南 南 ', ' 东 东南 东北 ', ' 东南 西北 ',\n       ' 东 北 西 ', ' 东南 南 东 ', ' 西南 西北 ', ' 西 南 ', ' 西 东 ', ' 东 南 西 ',\n       ' 西南 东 ', ' 东南 南 西南 ', ' 东 东北 ', ' 东南 东 ', ' 北 西北 ', ' 南 西北 ',\n       ' 南 东北 ', ' 东北 南 ', ' 东北 东南 ', ' 东南 南 北 ', ' 南 西南 东北 ', ' 西南 西 南 ',\n       ' 南 东 ', ' 西北 西 ', ' 南 西北 北 ', ' 东 南 西 北 ', ' 西 东北 ',\n       ' 东 东南 西 西北 ', ' 东北 西南 ', ' 东 南 北 ', ' 东北 东南 西南 ', ' 南 北 东北 ',\n       ' 西北 东南 ', ' 西北 东北 ', ' 西北 西南 ', ' 西南 东南 ', ' 南 西南 西 ', ' 北 东南 ',\n       ' 东南 西 西北 ', ' 西 西南 西北 ', ' 西南 南 东南 东 ', ' 东 东南 西南 西 ', ' 东 西 北 ',\n       ' 东北 东 ', ' 南 东南 西南 ', ' 北 东 ', ' 东 西 南 北 ', ' 东南 西南 西北 ',\n       ' 东北 西北 ', ' 东 南 西南 ', ' 东北 西 ', ' 东南 南 西南 东 ', ' 北 西 ',\n       ' 东 东南 南 西南 ', ' 东南 西南 西 ', ' 东 东南 北 东北 ', ' 东北 北 '], dtype=object)"
     },
     "execution_count": 26,
     "metadata": {},
     "output_type": "execute_result"
    }
   ],
   "source": [
    "# 查看朝向列种类\n",
    "data.朝向.unique()"
   ]
  },
  {
   "cell_type": "code",
   "execution_count": 27,
   "metadata": {
    "ExecuteTime": {
     "end_time": "2023-05-26T00:39:37.455429500Z",
     "start_time": "2023-05-26T00:39:37.398416900Z"
    }
   },
   "outputs": [],
   "source": [
    "def my_get_dummies(ser):\n",
    "    base_dirt = ['东', '南', '西', '北', '东北', '东南', '西南', '西北']\n",
    "    base_data = np.zeros((len(ser),), dtype=np.int)\n",
    "    df = pd.DataFrame({'东':base_data,'南':base_data, \\\n",
    "                       '西':base_data, '北':base_data, \\\n",
    "                       '东北':base_data, '东南':base_data, \\\n",
    "                       '西南':base_data, '西北':base_data}, index=ser.index)\n",
    "   \n",
    "    for irec in ser.index:\n",
    "        # 分隔字符串\n",
    "        rec = ser[irec].strip().split(' ')\n",
    "        # 遍历每条记录分隔后的方位\n",
    "        for dirt in rec:\n",
    "            # 检查是否存在8个基本方位以外的记录\n",
    "            if dirt not in base_dirt:\n",
    "                print(dirt)\n",
    "            else:\n",
    "                df[dirt][irec] = 1\n",
    "                \n",
    "    return df"
   ]
  },
  {
   "cell_type": "code",
   "execution_count": 28,
   "metadata": {
    "ExecuteTime": {
     "end_time": "2023-05-26T00:39:40.779195600Z",
     "start_time": "2023-05-26T00:39:37.423435900Z"
    }
   },
   "outputs": [
    {
     "name": "stderr",
     "output_type": "stream",
     "text": [
      "C:\\Users\\yaojie\\AppData\\Local\\Temp\\ipykernel_14624\\3416521185.py:3: DeprecationWarning: `np.int` is a deprecated alias for the builtin `int`. To silence this warning, use `int` by itself. Doing this will not modify any behavior and is safe. When replacing `np.int`, you may wish to use e.g. `np.int64` or `np.int32` to specify the precision. If you wish to review your current use, check the release note link for additional information.\n",
      "Deprecated in NumPy 1.20; for more details and guidance: https://numpy.org/devdocs/release/1.20.0-notes.html#deprecations\n",
      "  base_data = np.zeros((len(ser),), dtype=np.int)\n"
     ]
    },
    {
     "data": {
      "text/plain": "                       描述     位置信息  区域     总价    单价     面积           楼层  \\\n0       威兰德装修套三对中庭，客户只给契税   威兰德小镇   双流   91.8  1.06  86.40   中楼层(共26层)    \n1  房子清水套三户型方正采光好无遮挡，视野开阔！  南湖逸家二期   双流  128.5  1.94  66.12   高楼层(共33层)    \n2     南湖逸家满二精装房，中间楼层，采光良好  南湖逸家二期   双流  153.0  2.08  73.59   中楼层(共34层)    \n3       佰客郡精装修房子配套成熟业主真心卖     佰客郡   双流   89.0  1.18  75.40   中楼层(共16层)    \n4      加贝书香尚品 精装修 带家具家电出售  加贝书香尚品   双流   64.5  1.25  51.69   高楼层(共15层)    \n\n     建成时间   关注人数      发布时间  ...  板塔结合  板楼  东  南  西  北  东北  东南  西南  西北  \n0  2016.0  135.0   6个月以前发布  ...     0   0  1  0  0  0   0   0   0   0  \n1  2017.0   40.0   2个月以前发布  ...     1   0  1  0  0  0   0   0   0   0  \n2  2017.0   58.0   15天以前发布  ...     1   0  0  1  0  0   0   0   0   0  \n3  2011.0   36.0   2个月以前发布  ...     0   1  1  0  0  1   0   0   0   0  \n4  2007.0   38.0   1个月以前发布  ...     0   1  0  1  0  0   0   0   0   0  \n\n[5 rows x 83 columns]",
      "text/html": "<div>\n<style scoped>\n    .dataframe tbody tr th:only-of-type {\n        vertical-align: middle;\n    }\n\n    .dataframe tbody tr th {\n        vertical-align: top;\n    }\n\n    .dataframe thead th {\n        text-align: right;\n    }\n</style>\n<table border=\"1\" class=\"dataframe\">\n  <thead>\n    <tr style=\"text-align: right;\">\n      <th></th>\n      <th>描述</th>\n      <th>位置信息</th>\n      <th>区域</th>\n      <th>总价</th>\n      <th>单价</th>\n      <th>面积</th>\n      <th>楼层</th>\n      <th>建成时间</th>\n      <th>关注人数</th>\n      <th>发布时间</th>\n      <th>...</th>\n      <th>板塔结合</th>\n      <th>板楼</th>\n      <th>东</th>\n      <th>南</th>\n      <th>西</th>\n      <th>北</th>\n      <th>东北</th>\n      <th>东南</th>\n      <th>西南</th>\n      <th>西北</th>\n    </tr>\n  </thead>\n  <tbody>\n    <tr>\n      <th>0</th>\n      <td>威兰德装修套三对中庭，客户只给契税</td>\n      <td>威兰德小镇</td>\n      <td>双流</td>\n      <td>91.8</td>\n      <td>1.06</td>\n      <td>86.40</td>\n      <td>中楼层(共26层)</td>\n      <td>2016.0</td>\n      <td>135.0</td>\n      <td>6个月以前发布</td>\n      <td>...</td>\n      <td>0</td>\n      <td>0</td>\n      <td>1</td>\n      <td>0</td>\n      <td>0</td>\n      <td>0</td>\n      <td>0</td>\n      <td>0</td>\n      <td>0</td>\n      <td>0</td>\n    </tr>\n    <tr>\n      <th>1</th>\n      <td>房子清水套三户型方正采光好无遮挡，视野开阔！</td>\n      <td>南湖逸家二期</td>\n      <td>双流</td>\n      <td>128.5</td>\n      <td>1.94</td>\n      <td>66.12</td>\n      <td>高楼层(共33层)</td>\n      <td>2017.0</td>\n      <td>40.0</td>\n      <td>2个月以前发布</td>\n      <td>...</td>\n      <td>1</td>\n      <td>0</td>\n      <td>1</td>\n      <td>0</td>\n      <td>0</td>\n      <td>0</td>\n      <td>0</td>\n      <td>0</td>\n      <td>0</td>\n      <td>0</td>\n    </tr>\n    <tr>\n      <th>2</th>\n      <td>南湖逸家满二精装房，中间楼层，采光良好</td>\n      <td>南湖逸家二期</td>\n      <td>双流</td>\n      <td>153.0</td>\n      <td>2.08</td>\n      <td>73.59</td>\n      <td>中楼层(共34层)</td>\n      <td>2017.0</td>\n      <td>58.0</td>\n      <td>15天以前发布</td>\n      <td>...</td>\n      <td>1</td>\n      <td>0</td>\n      <td>0</td>\n      <td>1</td>\n      <td>0</td>\n      <td>0</td>\n      <td>0</td>\n      <td>0</td>\n      <td>0</td>\n      <td>0</td>\n    </tr>\n    <tr>\n      <th>3</th>\n      <td>佰客郡精装修房子配套成熟业主真心卖</td>\n      <td>佰客郡</td>\n      <td>双流</td>\n      <td>89.0</td>\n      <td>1.18</td>\n      <td>75.40</td>\n      <td>中楼层(共16层)</td>\n      <td>2011.0</td>\n      <td>36.0</td>\n      <td>2个月以前发布</td>\n      <td>...</td>\n      <td>0</td>\n      <td>1</td>\n      <td>1</td>\n      <td>0</td>\n      <td>0</td>\n      <td>1</td>\n      <td>0</td>\n      <td>0</td>\n      <td>0</td>\n      <td>0</td>\n    </tr>\n    <tr>\n      <th>4</th>\n      <td>加贝书香尚品 精装修 带家具家电出售</td>\n      <td>加贝书香尚品</td>\n      <td>双流</td>\n      <td>64.5</td>\n      <td>1.25</td>\n      <td>51.69</td>\n      <td>高楼层(共15层)</td>\n      <td>2007.0</td>\n      <td>38.0</td>\n      <td>1个月以前发布</td>\n      <td>...</td>\n      <td>0</td>\n      <td>1</td>\n      <td>0</td>\n      <td>1</td>\n      <td>0</td>\n      <td>0</td>\n      <td>0</td>\n      <td>0</td>\n      <td>0</td>\n      <td>0</td>\n    </tr>\n  </tbody>\n</table>\n<p>5 rows × 83 columns</p>\n</div>"
     },
     "execution_count": 28,
     "metadata": {},
     "output_type": "execute_result"
    }
   ],
   "source": [
    "# 自定义独热编码\n",
    "data = data.join(my_get_dummies(data.朝向))\n",
    "# 删除原有列\n",
    "data = data.drop('朝向', axis = 1)\n",
    "data.head()"
   ]
  },
  {
   "cell_type": "code",
   "execution_count": 29,
   "metadata": {
    "ExecuteTime": {
     "end_time": "2023-05-26T00:39:40.855070100Z",
     "start_time": "2023-05-26T00:39:40.780183Z"
    }
   },
   "outputs": [
    {
     "data": {
      "text/plain": "453"
     },
     "execution_count": 29,
     "metadata": {},
     "output_type": "execute_result"
    }
   ],
   "source": [
    "# 检测数据格式一致性\n",
    "(~data.楼层.str.contains('楼层')).sum()"
   ]
  },
  {
   "cell_type": "code",
   "execution_count": 30,
   "metadata": {
    "ExecuteTime": {
     "end_time": "2023-05-26T00:39:40.882058200Z",
     "start_time": "2023-05-26T00:39:40.812042Z"
    }
   },
   "outputs": [
    {
     "data": {
      "text/plain": "array([' 中楼层(共26层) ', ' 高楼层(共33层) ', ' 中楼层(共34层) ', ' 中楼层(共16层) ',\n       ' 高楼层(共15层) ', ' 低楼层(共32层) ', ' 中楼层(共32层) ', ' 中楼层(共14层) ',\n       ' 高楼层(共23层) ', ' 中楼层(共33层) ', ' 高楼层(共32层) ', ' 中楼层(共13层) ',\n       ' 中楼层(共15层) ', ' 高楼层(共6层) ', ' 低楼层(共12层) ', ' 高楼层(共31层) ',\n       ' 中楼层(共5层) ', ' 中楼层(共18层) ', ' 高楼层(共16层) ', ' 中楼层(共25层) ',\n       ' 低楼层(共18层) ', ' 低楼层(共13层) ', ' 中楼层(共12层) ', ' 高楼层(共14层) ',\n       ' 低楼层(共6层) ', ' 高楼层(共18层) ', ' 高楼层(共34层) ', ' 高楼层(共13层) ',\n       ' 中楼层(共23层) ', ' 中楼层(共17层) ', ' 高楼层(共12层) ', ' 低楼层(共26层) ',\n       ' 低楼层(共17层) ', ' 中楼层(共24层) ', ' 高楼层(共7层) ', ' 中楼层(共22层) ',\n       ' 中楼层(共6层) ', ' 高楼层(共24层) ', ' 低楼层(共14层) ', ' 中楼层(共11层) ',\n       ' 中楼层(共30层) ', ' 高楼层(共38层) ', ' 高楼层(共26层) ', ' 低楼层(共9层) ',\n       ' 高楼层(共17层) ', ' 低楼层(共29层) ', ' 低楼层(共27层) ', ' 低楼层(共33层) ',\n       ' 低楼层(共16层) ', ' 低楼层(共22层) ', ' 高楼层(共29层) ', ' 低楼层(共25层) ',\n       ' 中楼层(共7层) ', ' 低楼层(共11层) ', ' 低楼层(共23层) ', ' 高楼层(共9层) ',\n       ' 中楼层(共29层) ', ' 低楼层(共20层) ', ' 低楼层(共15层) ', ' 低楼层(共34层) ',\n       ' 高楼层(共30层) ', ' 高楼层(共22层) ', ' 低楼层(共30层) ', ' 中楼层(共38层) ',\n       ' 高楼层(共19层) ', ' 中楼层(共9层) ', ' 高楼层(共10层) ', ' 中楼层(共31层) ',\n       ' 中楼层(共20层) ', ' 低楼层(共2层) ', ' 高楼层(共5层) ', ' 低楼层(共10层) ',\n       ' 低楼层(共24层) ', ' 低楼层(共3层) ', ' 高楼层(共11层) ', ' 低楼层(共5层) ',\n       ' 低楼层(共7层) ', ' 中楼层(共4层) ', ' 低楼层(共39层) ', ' 低楼层(共37层) ',\n       ' 高楼层(共37层) ', ' 中楼层(共8层) ', ' 中楼层(共27层) ', ' 中楼层(共21层) ',\n       ' 低楼层(共38层) ', ' 高楼层(共4层) ', ' 中楼层(共37层) ', ' 高楼层(共25层) ',\n       ' 中楼层(共28层) ', ' 低楼层(共19层) ', ' 低楼层(共8层) ', ' 中楼层(共19层) ',\n       ' 中楼层(共10层) ', ' 低楼层(共1层) ', ' 高楼层(共20层) ', ' 高楼层(共27层) ',\n       ' 低楼层(共28层) ', ' 高楼层(共21层) ', ' 中楼层(共39层) ', ' 低楼层(共4层) ',\n       ' 低楼层(共31层) ', ' 低楼层(共48层) ', ' 高楼层(共35层) ', ' 高楼层(共28层) ',\n       ' 低楼层(共44层) ', ' 高楼层(共40层) ', ' 低楼层(共40层) ', ' 低楼层(共35层) ',\n       ' 中楼层(共40层) ', ' 中楼层(共35层) ', ' 高楼层(共39层) ', ' 中楼层(共44层) ',\n       ' 中楼层(共36层) ', ' 高楼层(共48层) ', ' 高楼层(共50层) ', ' 高楼层(共43层) ',\n       ' 低楼层(共50层) ', ' 低楼层(共43层) ', ' 中楼层(共50层) ', ' 中楼层(共43层) ',\n       ' 高楼层(共42层) ', ' 低楼层(共36层) ', ' 高楼层(共8层) ', ' 高楼层(共36层) ',\n       ' 中楼层(共42层) ', ' 中楼层(共56层) ', ' 中楼层(共41层) ', ' 低楼层(共21层) ',\n       ' 高楼层(共53层) ', ' 低楼层(共42层) ', ' 低楼层(共46层) ', ' 高楼层(共41层) ',\n       ' 高楼层(共45层) ', ' 中楼层(共47层) ', ' 高楼层(共56层) ', ' 高楼层(共47层) ',\n       ' 低楼层(共41层) ', ' 低楼层(共47层) ', ' 低楼层(共53层) ', ' 低楼层(共56层) ',\n       ' 高楼层(共44层) ', ' 中楼层(共53层) ', ' 低楼层(共45层) ', ' 中楼层(共45层) ',\n       ' 高楼层(共55层) ', ' 低楼层(共55层) ', ' 中楼层(共55层) ', ' 高楼层(共49层) ',\n       ' 中楼层(共49层) ', ' 低楼层(共49层) ', ' 中楼层(共46层) ', ' 高楼层(共46层) '],\n      dtype=object)"
     },
     "execution_count": 30,
     "metadata": {},
     "output_type": "execute_result"
    }
   ],
   "source": [
    "# 舍弃数据\n",
    "data = data[data.楼层.str.contains('楼层')]\n",
    "# 查看数据唯一值\n",
    "data.楼层.unique()"
   ]
  },
  {
   "cell_type": "code",
   "execution_count": 31,
   "metadata": {
    "ExecuteTime": {
     "end_time": "2023-05-26T00:39:40.987081200Z",
     "start_time": "2023-05-26T00:39:40.864052900Z"
    }
   },
   "outputs": [
    {
     "data": {
      "text/plain": "                       描述     位置信息  区域     总价    单价     面积    建成时间   关注人数  \\\n0       威兰德装修套三对中庭，客户只给契税   威兰德小镇   双流   91.8  1.06  86.40  2016.0  135.0   \n1  房子清水套三户型方正采光好无遮挡，视野开阔！  南湖逸家二期   双流  128.5  1.94  66.12  2017.0   40.0   \n2     南湖逸家满二精装房，中间楼层，采光良好  南湖逸家二期   双流  153.0  2.08  73.59  2017.0   58.0   \n3       佰客郡精装修房子配套成熟业主真心卖     佰客郡   双流   89.0  1.18  75.40  2011.0   36.0   \n4      加贝书香尚品 精装修 带家具家电出售  加贝书香尚品   双流   64.5  1.25  51.69  2007.0   38.0   \n\n       发布时间  0室0厅   ...  西  北  东北  东南  西南  西北   中楼层   低楼层   高楼层  总楼层  \n0   6个月以前发布      0  ...  0  0   0   0   0   0     1     0     0   26  \n1   2个月以前发布      0  ...  0  0   0   0   0   0     0     0     1   33  \n2   15天以前发布      0  ...  0  0   0   0   0   0     1     0     0   34  \n3   2个月以前发布      0  ...  0  1   0   0   0   0     1     0     0   16  \n4   1个月以前发布      0  ...  0  0   0   0   0   0     0     0     1   15  \n\n[5 rows x 86 columns]",
      "text/html": "<div>\n<style scoped>\n    .dataframe tbody tr th:only-of-type {\n        vertical-align: middle;\n    }\n\n    .dataframe tbody tr th {\n        vertical-align: top;\n    }\n\n    .dataframe thead th {\n        text-align: right;\n    }\n</style>\n<table border=\"1\" class=\"dataframe\">\n  <thead>\n    <tr style=\"text-align: right;\">\n      <th></th>\n      <th>描述</th>\n      <th>位置信息</th>\n      <th>区域</th>\n      <th>总价</th>\n      <th>单价</th>\n      <th>面积</th>\n      <th>建成时间</th>\n      <th>关注人数</th>\n      <th>发布时间</th>\n      <th>0室0厅</th>\n      <th>...</th>\n      <th>西</th>\n      <th>北</th>\n      <th>东北</th>\n      <th>东南</th>\n      <th>西南</th>\n      <th>西北</th>\n      <th>中楼层</th>\n      <th>低楼层</th>\n      <th>高楼层</th>\n      <th>总楼层</th>\n    </tr>\n  </thead>\n  <tbody>\n    <tr>\n      <th>0</th>\n      <td>威兰德装修套三对中庭，客户只给契税</td>\n      <td>威兰德小镇</td>\n      <td>双流</td>\n      <td>91.8</td>\n      <td>1.06</td>\n      <td>86.40</td>\n      <td>2016.0</td>\n      <td>135.0</td>\n      <td>6个月以前发布</td>\n      <td>0</td>\n      <td>...</td>\n      <td>0</td>\n      <td>0</td>\n      <td>0</td>\n      <td>0</td>\n      <td>0</td>\n      <td>0</td>\n      <td>1</td>\n      <td>0</td>\n      <td>0</td>\n      <td>26</td>\n    </tr>\n    <tr>\n      <th>1</th>\n      <td>房子清水套三户型方正采光好无遮挡，视野开阔！</td>\n      <td>南湖逸家二期</td>\n      <td>双流</td>\n      <td>128.5</td>\n      <td>1.94</td>\n      <td>66.12</td>\n      <td>2017.0</td>\n      <td>40.0</td>\n      <td>2个月以前发布</td>\n      <td>0</td>\n      <td>...</td>\n      <td>0</td>\n      <td>0</td>\n      <td>0</td>\n      <td>0</td>\n      <td>0</td>\n      <td>0</td>\n      <td>0</td>\n      <td>0</td>\n      <td>1</td>\n      <td>33</td>\n    </tr>\n    <tr>\n      <th>2</th>\n      <td>南湖逸家满二精装房，中间楼层，采光良好</td>\n      <td>南湖逸家二期</td>\n      <td>双流</td>\n      <td>153.0</td>\n      <td>2.08</td>\n      <td>73.59</td>\n      <td>2017.0</td>\n      <td>58.0</td>\n      <td>15天以前发布</td>\n      <td>0</td>\n      <td>...</td>\n      <td>0</td>\n      <td>0</td>\n      <td>0</td>\n      <td>0</td>\n      <td>0</td>\n      <td>0</td>\n      <td>1</td>\n      <td>0</td>\n      <td>0</td>\n      <td>34</td>\n    </tr>\n    <tr>\n      <th>3</th>\n      <td>佰客郡精装修房子配套成熟业主真心卖</td>\n      <td>佰客郡</td>\n      <td>双流</td>\n      <td>89.0</td>\n      <td>1.18</td>\n      <td>75.40</td>\n      <td>2011.0</td>\n      <td>36.0</td>\n      <td>2个月以前发布</td>\n      <td>0</td>\n      <td>...</td>\n      <td>0</td>\n      <td>1</td>\n      <td>0</td>\n      <td>0</td>\n      <td>0</td>\n      <td>0</td>\n      <td>1</td>\n      <td>0</td>\n      <td>0</td>\n      <td>16</td>\n    </tr>\n    <tr>\n      <th>4</th>\n      <td>加贝书香尚品 精装修 带家具家电出售</td>\n      <td>加贝书香尚品</td>\n      <td>双流</td>\n      <td>64.5</td>\n      <td>1.25</td>\n      <td>51.69</td>\n      <td>2007.0</td>\n      <td>38.0</td>\n      <td>1个月以前发布</td>\n      <td>0</td>\n      <td>...</td>\n      <td>0</td>\n      <td>0</td>\n      <td>0</td>\n      <td>0</td>\n      <td>0</td>\n      <td>0</td>\n      <td>0</td>\n      <td>0</td>\n      <td>1</td>\n      <td>15</td>\n    </tr>\n  </tbody>\n</table>\n<p>5 rows × 86 columns</p>\n</div>"
     },
     "execution_count": 31,
     "metadata": {},
     "output_type": "execute_result"
    }
   ],
   "source": [
    "# 提取所在楼层\n",
    "data['所在楼层'] = data.楼层.map(lambda x : x.split('(')[0])\n",
    "\n",
    "# 对所在楼层进行独热编码\n",
    "data = data.join(pd.get_dummies(data.所在楼层))\n",
    "\n",
    "# 使用正则表达式提取数据并转换为int类型\n",
    "data['总楼层'] = data.楼层.map(lambda x : int(re.findall(r'\\(共(.*?)层\\)', x)[0]))\n",
    "\n",
    "# 删除原有列\n",
    "data = data.drop('楼层', axis = 1)\n",
    "data = data.drop('所在楼层', axis = 1)\n",
    "\n",
    "data.head()"
   ]
  },
  {
   "cell_type": "code",
   "execution_count": 32,
   "metadata": {
    "ExecuteTime": {
     "end_time": "2023-05-26T00:40:26.569196600Z",
     "start_time": "2023-05-26T00:39:40.990082400Z"
    }
   },
   "outputs": [],
   "source": [
    "# 删除发布时间信息\n",
    "data = data.drop('发布时间', axis = 1)\n",
    "# 去掉列标题空白\n",
    "data = data.rename(columns = lambda x:x.strip())\n",
    "# 保存数据\n",
    "output_file_path = '房产信息_预处理.xlsx'\n",
    "data.to_excel(output_file_path, index=False)"
   ]
  },
  {
   "cell_type": "code",
   "execution_count": 32,
   "outputs": [],
   "source": [],
   "metadata": {
    "collapsed": false,
    "ExecuteTime": {
     "end_time": "2023-05-26T00:40:26.584468100Z",
     "start_time": "2023-05-26T00:40:26.570197Z"
    }
   }
  }
 ],
 "metadata": {
  "kernelspec": {
   "display_name": "Python 3",
   "language": "python",
   "name": "python3"
  },
  "language_info": {
   "codemirror_mode": {
    "name": "ipython",
    "version": 3
   },
   "file_extension": ".py",
   "mimetype": "text/x-python",
   "name": "python",
   "nbconvert_exporter": "python",
   "pygments_lexer": "ipython3",
   "version": "3.7.6"
  }
 },
 "nbformat": 4,
 "nbformat_minor": 4
}
