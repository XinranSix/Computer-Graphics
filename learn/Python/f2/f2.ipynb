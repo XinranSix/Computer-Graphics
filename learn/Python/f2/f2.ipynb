{
 "cells": [
  {
   "cell_type": "code",
   "execution_count": 1,
   "metadata": {
    "collapsed": true,
    "ExecuteTime": {
     "end_time": "2023-06-08T07:38:36.490817100Z",
     "start_time": "2023-06-08T07:38:34.188275700Z"
    }
   },
   "outputs": [],
   "source": [
    "import os\n",
    "import re\n",
    "import pandas as pd\n",
    "import numpy as np\n",
    "import matplotlib.pyplot as plt\n",
    "import plotly.express as px\n",
    "import plotly.graph_objects as go\n",
    "from sklearn.cluster import KMeans"
   ]
  },
  {
   "cell_type": "code",
   "execution_count": 2,
   "outputs": [
    {
     "data": {
      "text/plain": "0        138\n1      45-90\n2        188\n3         98\n4       29.9\n       ...  \n132     11.9\n133     28.9\n134     35.5\n135     29.5\n136     32.5\nName: price, Length: 137, dtype: object"
     },
     "execution_count": 2,
     "metadata": {},
     "output_type": "execute_result"
    }
   ],
   "source": [
    "data = pd.read_csv('./data2.csv')\n",
    "data['price']"
   ],
   "metadata": {
    "collapsed": false,
    "ExecuteTime": {
     "end_time": "2023-06-08T07:38:36.527778900Z",
     "start_time": "2023-06-08T07:38:36.490817100Z"
    }
   }
  },
  {
   "cell_type": "code",
   "execution_count": 3,
   "outputs": [
    {
     "data": {
      "text/plain": "(137, 7)"
     },
     "execution_count": 3,
     "metadata": {},
     "output_type": "execute_result"
    }
   ],
   "source": [
    "data.shape"
   ],
   "metadata": {
    "collapsed": false,
    "ExecuteTime": {
     "end_time": "2023-06-08T07:38:36.543418600Z",
     "start_time": "2023-06-08T07:38:36.527778900Z"
    }
   }
  },
  {
   "cell_type": "code",
   "execution_count": 4,
   "outputs": [
    {
     "name": "stdout",
     "output_type": "stream",
     "text": [
      "<class 'pandas.core.frame.DataFrame'>\n",
      "RangeIndex: 137 entries, 0 to 136\n",
      "Data columns (total 7 columns):\n",
      " #   Column         Non-Null Count  Dtype \n",
      "---  ------         --------------  ----- \n",
      " 0   id             137 non-null    int64 \n",
      " 1   title          137 non-null    object\n",
      " 2   weight         137 non-null    int64 \n",
      " 3   price          137 non-null    object\n",
      " 4   month_num      137 non-null    int64 \n",
      " 5   pinglun_num    137 non-null    int64 \n",
      " 6   shouchang_num  137 non-null    int64 \n",
      "dtypes: int64(5), object(2)\n",
      "memory usage: 7.6+ KB\n"
     ]
    }
   ],
   "source": [
    "data.info()"
   ],
   "metadata": {
    "collapsed": false,
    "ExecuteTime": {
     "end_time": "2023-06-08T07:38:36.590303800Z",
     "start_time": "2023-06-08T07:38:36.543418600Z"
    }
   }
  },
  {
   "cell_type": "code",
   "execution_count": 5,
   "outputs": [
    {
     "data": {
      "text/plain": "               id       weight      month_num   pinglun_num  shouchang_num\ncount  137.000000   137.000000     137.000000  1.370000e+02   1.370000e+02\nmean    69.000000   400.218978   37375.562044  2.380973e+05   2.090466e+05\nstd     39.692569   453.197216   61195.192477  2.838038e+05   4.198579e+05\nmin      1.000000    36.000000     631.000000  2.997000e+03   1.946000e+03\n25%     35.000000   154.000000    8955.000000  4.392700e+04   3.008800e+04\n50%     69.000000   212.000000   15608.000000  1.284890e+05   7.725200e+04\n75%    103.000000   520.000000   44588.000000  2.741480e+05   1.895900e+05\nmax    137.000000  2764.000000  444591.000000  1.092616e+06   3.217214e+06",
      "text/html": "<div>\n<style scoped>\n    .dataframe tbody tr th:only-of-type {\n        vertical-align: middle;\n    }\n\n    .dataframe tbody tr th {\n        vertical-align: top;\n    }\n\n    .dataframe thead th {\n        text-align: right;\n    }\n</style>\n<table border=\"1\" class=\"dataframe\">\n  <thead>\n    <tr style=\"text-align: right;\">\n      <th></th>\n      <th>id</th>\n      <th>weight</th>\n      <th>month_num</th>\n      <th>pinglun_num</th>\n      <th>shouchang_num</th>\n    </tr>\n  </thead>\n  <tbody>\n    <tr>\n      <th>count</th>\n      <td>137.000000</td>\n      <td>137.000000</td>\n      <td>137.000000</td>\n      <td>1.370000e+02</td>\n      <td>1.370000e+02</td>\n    </tr>\n    <tr>\n      <th>mean</th>\n      <td>69.000000</td>\n      <td>400.218978</td>\n      <td>37375.562044</td>\n      <td>2.380973e+05</td>\n      <td>2.090466e+05</td>\n    </tr>\n    <tr>\n      <th>std</th>\n      <td>39.692569</td>\n      <td>453.197216</td>\n      <td>61195.192477</td>\n      <td>2.838038e+05</td>\n      <td>4.198579e+05</td>\n    </tr>\n    <tr>\n      <th>min</th>\n      <td>1.000000</td>\n      <td>36.000000</td>\n      <td>631.000000</td>\n      <td>2.997000e+03</td>\n      <td>1.946000e+03</td>\n    </tr>\n    <tr>\n      <th>25%</th>\n      <td>35.000000</td>\n      <td>154.000000</td>\n      <td>8955.000000</td>\n      <td>4.392700e+04</td>\n      <td>3.008800e+04</td>\n    </tr>\n    <tr>\n      <th>50%</th>\n      <td>69.000000</td>\n      <td>212.000000</td>\n      <td>15608.000000</td>\n      <td>1.284890e+05</td>\n      <td>7.725200e+04</td>\n    </tr>\n    <tr>\n      <th>75%</th>\n      <td>103.000000</td>\n      <td>520.000000</td>\n      <td>44588.000000</td>\n      <td>2.741480e+05</td>\n      <td>1.895900e+05</td>\n    </tr>\n    <tr>\n      <th>max</th>\n      <td>137.000000</td>\n      <td>2764.000000</td>\n      <td>444591.000000</td>\n      <td>1.092616e+06</td>\n      <td>3.217214e+06</td>\n    </tr>\n  </tbody>\n</table>\n</div>"
     },
     "execution_count": 5,
     "metadata": {},
     "output_type": "execute_result"
    }
   ],
   "source": [
    "data.describe()"
   ],
   "metadata": {
    "collapsed": false,
    "ExecuteTime": {
     "end_time": "2023-06-08T07:38:36.590303800Z",
     "start_time": "2023-06-08T07:38:36.559044500Z"
    }
   }
  },
  {
   "cell_type": "code",
   "execution_count": 6,
   "outputs": [
    {
     "data": {
      "text/plain": "id               0\ntitle            0\nweight           0\nprice            0\nmonth_num        0\npinglun_num      0\nshouchang_num    0\ndtype: int64"
     },
     "execution_count": 6,
     "metadata": {},
     "output_type": "execute_result"
    }
   ],
   "source": [
    "data.isnull().sum()"
   ],
   "metadata": {
    "collapsed": false,
    "ExecuteTime": {
     "end_time": "2023-06-08T07:38:36.606371200Z",
     "start_time": "2023-06-08T07:38:36.590303800Z"
    }
   }
  },
  {
   "cell_type": "code",
   "execution_count": 26,
   "outputs": [
    {
     "data": {
      "text/plain": "      id                          title  weight  price  month_num  \\\n0      1    预售【巨型萌宠大礼包/1804g】休闲零食网红食品吃货    1804    138      42802   \n1      2    满减【夏威夷果160g】干货零食坚果干果散装袋装奶油味     160  45-90      55719   \n2      3    【巨型零食大礼包/30袋装】休闲零食网红食品吃货送女友    2764    188      51386   \n3      4  【坚果大礼包1463g/8件】零食端午礼盒每日坚果混合送礼    1463     98      69195   \n4      5    【乳酸菌小伴侣520g/整箱】营养早餐蛋糕面包代餐点心     520   29.9      46429   \n..   ...                            ...     ...    ...        ...   \n132  133     【兰花豆205g】休闲零食干果坚果炒货蚕豆豌豆牛肉味     205   11.9      14991   \n133  134     【猪肉脯210g】麻辣零食风干熟食小吃肉脯肉干小包装     120   28.9      10702   \n134  135    满减【奶香华夫饼248g】休闲零食面包蛋糕早餐代餐网红     248   35.5      15181   \n135  136    满减【夹心海苔36g】即食海味儿童零食紫菜芝麻/巴旦木      36   29.5       3494   \n136  137    满减【Q弹鸡蛋干240g】休闲零食蛋制品类豆干类豆制品     240   32.5       6484   \n\n     pinglun_num  shouchang_num  max_price  min_price  \n0         831591         563166      138.0      138.0  \n1         676830         363020       90.0       45.0  \n2         388037         805650      188.0      188.0  \n3        1019082        2490660       98.0       98.0  \n4         864396         640866       29.9       29.9  \n..           ...            ...        ...        ...  \n132       108127          66192       11.9       11.9  \n133         9554           6388       28.9       28.9  \n134        19822           6524       35.5       35.5  \n135       107607          30088       29.5       29.5  \n136        70292          19644       32.5       32.5  \n\n[137 rows x 9 columns]",
      "text/html": "<div>\n<style scoped>\n    .dataframe tbody tr th:only-of-type {\n        vertical-align: middle;\n    }\n\n    .dataframe tbody tr th {\n        vertical-align: top;\n    }\n\n    .dataframe thead th {\n        text-align: right;\n    }\n</style>\n<table border=\"1\" class=\"dataframe\">\n  <thead>\n    <tr style=\"text-align: right;\">\n      <th></th>\n      <th>id</th>\n      <th>title</th>\n      <th>weight</th>\n      <th>price</th>\n      <th>month_num</th>\n      <th>pinglun_num</th>\n      <th>shouchang_num</th>\n      <th>max_price</th>\n      <th>min_price</th>\n    </tr>\n  </thead>\n  <tbody>\n    <tr>\n      <th>0</th>\n      <td>1</td>\n      <td>预售【巨型萌宠大礼包/1804g】休闲零食网红食品吃货</td>\n      <td>1804</td>\n      <td>138</td>\n      <td>42802</td>\n      <td>831591</td>\n      <td>563166</td>\n      <td>138.0</td>\n      <td>138.0</td>\n    </tr>\n    <tr>\n      <th>1</th>\n      <td>2</td>\n      <td>满减【夏威夷果160g】干货零食坚果干果散装袋装奶油味</td>\n      <td>160</td>\n      <td>45-90</td>\n      <td>55719</td>\n      <td>676830</td>\n      <td>363020</td>\n      <td>90.0</td>\n      <td>45.0</td>\n    </tr>\n    <tr>\n      <th>2</th>\n      <td>3</td>\n      <td>【巨型零食大礼包/30袋装】休闲零食网红食品吃货送女友</td>\n      <td>2764</td>\n      <td>188</td>\n      <td>51386</td>\n      <td>388037</td>\n      <td>805650</td>\n      <td>188.0</td>\n      <td>188.0</td>\n    </tr>\n    <tr>\n      <th>3</th>\n      <td>4</td>\n      <td>【坚果大礼包1463g/8件】零食端午礼盒每日坚果混合送礼</td>\n      <td>1463</td>\n      <td>98</td>\n      <td>69195</td>\n      <td>1019082</td>\n      <td>2490660</td>\n      <td>98.0</td>\n      <td>98.0</td>\n    </tr>\n    <tr>\n      <th>4</th>\n      <td>5</td>\n      <td>【乳酸菌小伴侣520g/整箱】营养早餐蛋糕面包代餐点心</td>\n      <td>520</td>\n      <td>29.9</td>\n      <td>46429</td>\n      <td>864396</td>\n      <td>640866</td>\n      <td>29.9</td>\n      <td>29.9</td>\n    </tr>\n    <tr>\n      <th>...</th>\n      <td>...</td>\n      <td>...</td>\n      <td>...</td>\n      <td>...</td>\n      <td>...</td>\n      <td>...</td>\n      <td>...</td>\n      <td>...</td>\n      <td>...</td>\n    </tr>\n    <tr>\n      <th>132</th>\n      <td>133</td>\n      <td>【兰花豆205g】休闲零食干果坚果炒货蚕豆豌豆牛肉味</td>\n      <td>205</td>\n      <td>11.9</td>\n      <td>14991</td>\n      <td>108127</td>\n      <td>66192</td>\n      <td>11.9</td>\n      <td>11.9</td>\n    </tr>\n    <tr>\n      <th>133</th>\n      <td>134</td>\n      <td>【猪肉脯210g】麻辣零食风干熟食小吃肉脯肉干小包装</td>\n      <td>120</td>\n      <td>28.9</td>\n      <td>10702</td>\n      <td>9554</td>\n      <td>6388</td>\n      <td>28.9</td>\n      <td>28.9</td>\n    </tr>\n    <tr>\n      <th>134</th>\n      <td>135</td>\n      <td>满减【奶香华夫饼248g】休闲零食面包蛋糕早餐代餐网红</td>\n      <td>248</td>\n      <td>35.5</td>\n      <td>15181</td>\n      <td>19822</td>\n      <td>6524</td>\n      <td>35.5</td>\n      <td>35.5</td>\n    </tr>\n    <tr>\n      <th>135</th>\n      <td>136</td>\n      <td>满减【夹心海苔36g】即食海味儿童零食紫菜芝麻/巴旦木</td>\n      <td>36</td>\n      <td>29.5</td>\n      <td>3494</td>\n      <td>107607</td>\n      <td>30088</td>\n      <td>29.5</td>\n      <td>29.5</td>\n    </tr>\n    <tr>\n      <th>136</th>\n      <td>137</td>\n      <td>满减【Q弹鸡蛋干240g】休闲零食蛋制品类豆干类豆制品</td>\n      <td>240</td>\n      <td>32.5</td>\n      <td>6484</td>\n      <td>70292</td>\n      <td>19644</td>\n      <td>32.5</td>\n      <td>32.5</td>\n    </tr>\n  </tbody>\n</table>\n<p>137 rows × 9 columns</p>\n</div>"
     },
     "execution_count": 26,
     "metadata": {},
     "output_type": "execute_result"
    }
   ],
   "source": [
    "max_price = []\n",
    "min_price = []\n",
    "for i in data['price']:\n",
    "    t = i.split('-')\n",
    "    if len(t) == 2:\n",
    "        min_price.append(float(t[0]))\n",
    "        max_price.append(float(t[1]))\n",
    "    else:\n",
    "        min_price.append(float(t[0]))\n",
    "        max_price.append(float(t[0]))\n",
    "data['max_price'] = max_price\n",
    "data['min_price'] = min_price\n",
    "data"
   ],
   "metadata": {
    "collapsed": false,
    "ExecuteTime": {
     "end_time": "2023-06-08T07:47:55.753004200Z",
     "start_time": "2023-06-08T07:47:55.717802900Z"
    }
   }
  },
  {
   "cell_type": "code",
   "execution_count": 8,
   "outputs": [
    {
     "data": {
      "text/plain": "False"
     },
     "execution_count": 8,
     "metadata": {},
     "output_type": "execute_result"
    }
   ],
   "source": [
    "(data['min_price'] <= 0).any()"
   ],
   "metadata": {
    "collapsed": false,
    "ExecuteTime": {
     "end_time": "2023-06-08T07:38:36.662359600Z",
     "start_time": "2023-06-08T07:38:36.631086800Z"
    }
   }
  },
  {
   "cell_type": "code",
   "execution_count": 9,
   "outputs": [
    {
     "data": {
      "text/plain": "False"
     },
     "execution_count": 9,
     "metadata": {},
     "output_type": "execute_result"
    }
   ],
   "source": [
    "(data['month_num'] <= 0).any()"
   ],
   "metadata": {
    "collapsed": false,
    "ExecuteTime": {
     "end_time": "2023-06-08T07:38:36.709216900Z",
     "start_time": "2023-06-08T07:38:36.662359600Z"
    }
   }
  },
  {
   "cell_type": "code",
   "execution_count": 10,
   "outputs": [
    {
     "data": {
      "text/plain": "False"
     },
     "execution_count": 10,
     "metadata": {},
     "output_type": "execute_result"
    }
   ],
   "source": [
    "(data['title'] == 0).any()"
   ],
   "metadata": {
    "collapsed": false,
    "ExecuteTime": {
     "end_time": "2023-06-08T07:38:36.709216900Z",
     "start_time": "2023-06-08T07:38:36.662359600Z"
    }
   }
  },
  {
   "cell_type": "code",
   "execution_count": 11,
   "outputs": [
    {
     "data": {
      "text/plain": "0        预售【巨型萌宠大礼包/1804g】休闲零食网红食品吃货\n1        满减【夏威夷果160g】干货零食坚果干果散装袋装奶油味\n2        【巨型零食大礼包/30袋装】休闲零食网红食品吃货送女友\n3      【坚果大礼包1463g/8件】零食端午礼盒每日坚果混合送礼\n4        【乳酸菌小伴侣520g/整箱】营养早餐蛋糕面包代餐点心\n                   ...              \n132       【兰花豆205g】休闲零食干果坚果炒货蚕豆豌豆牛肉味\n133       【猪肉脯210g】麻辣零食风干熟食小吃肉脯肉干小包装\n134      满减【奶香华夫饼248g】休闲零食面包蛋糕早餐代餐网红\n135      满减【夹心海苔36g】即食海味儿童零食紫菜芝麻/巴旦木\n136      满减【Q弹鸡蛋干240g】休闲零食蛋制品类豆干类豆制品\nName: title, Length: 137, dtype: object"
     },
     "execution_count": 11,
     "metadata": {},
     "output_type": "execute_result"
    }
   ],
   "source": [
    "data['title']"
   ],
   "metadata": {
    "collapsed": false,
    "ExecuteTime": {
     "end_time": "2023-06-08T07:39:12.100484300Z",
     "start_time": "2023-06-08T07:39:12.037967100Z"
    }
   }
  },
  {
   "cell_type": "code",
   "execution_count": 35,
   "outputs": [
    {
     "data": {
      "text/plain": "      id                          title  weight  price  month_num  \\\n0      1    预售【巨型萌宠大礼包/1804g】休闲零食网红食品吃货    1804    138      42802   \n1      2    满减【夏威夷果160g】干货零食坚果干果散装袋装奶油味     160  45-90      55719   \n2      3    【巨型零食大礼包/30袋装】休闲零食网红食品吃货送女友    2764    188      51386   \n3      4  【坚果大礼包1463g/8件】零食端午礼盒每日坚果混合送礼    1463     98      69195   \n4      5    【乳酸菌小伴侣520g/整箱】营养早餐蛋糕面包代餐点心     520   29.9      46429   \n..   ...                            ...     ...    ...        ...   \n132  133     【兰花豆205g】休闲零食干果坚果炒货蚕豆豌豆牛肉味     205   11.9      14991   \n133  134     【猪肉脯210g】麻辣零食风干熟食小吃肉脯肉干小包装     120   28.9      10702   \n134  135    满减【奶香华夫饼248g】休闲零食面包蛋糕早餐代餐网红     248   35.5      15181   \n135  136    满减【夹心海苔36g】即食海味儿童零食紫菜芝麻/巴旦木      36   29.5       3494   \n136  137    满减【Q弹鸡蛋干240g】休闲零食蛋制品类豆干类豆制品     240   32.5       6484   \n\n     pinglun_num  shouchang_num  max_price  min_price tag           desc  \\\n0         831591         563166      138.0      138.0  预售  巨型萌宠大礼包/1804g   \n1         676830         363020       90.0       45.0  满减       夏威夷果160g   \n2         388037         805650      188.0      188.0       巨型零食大礼包/30袋装   \n3        1019082        2490660       98.0       98.0      坚果大礼包1463g/8件   \n4         864396         640866       29.9       29.9      乳酸菌小伴侣520g/整箱   \n..           ...            ...        ...        ...  ..            ...   \n132       108127          66192       11.9       11.9            兰花豆205g   \n133         9554           6388       28.9       28.9            猪肉脯210g   \n134        19822           6524       35.5       35.5  满减      奶香华夫饼248g   \n135       107607          30088       29.5       29.5  满减        夹心海苔36g   \n136        70292          19644       32.5       32.5  满减      Q弹鸡蛋干240g   \n\n             sub_title  \n0           休闲零食网红食品吃货  \n1      干货零食坚果干果散装袋装奶油味  \n2        休闲零食网红食品吃货送女友  \n3       零食端午礼盒每日坚果混合送礼  \n4         营养早餐蛋糕面包代餐点心  \n..                 ...  \n132  休闲零食干果坚果炒货蚕豆豌豆牛肉味  \n133  麻辣零食风干熟食小吃肉脯肉干小包装  \n134     休闲零食面包蛋糕早餐代餐网红  \n135   即食海味儿童零食紫菜芝麻/巴旦木  \n136     休闲零食蛋制品类豆干类豆制品  \n\n[137 rows x 12 columns]",
      "text/html": "<div>\n<style scoped>\n    .dataframe tbody tr th:only-of-type {\n        vertical-align: middle;\n    }\n\n    .dataframe tbody tr th {\n        vertical-align: top;\n    }\n\n    .dataframe thead th {\n        text-align: right;\n    }\n</style>\n<table border=\"1\" class=\"dataframe\">\n  <thead>\n    <tr style=\"text-align: right;\">\n      <th></th>\n      <th>id</th>\n      <th>title</th>\n      <th>weight</th>\n      <th>price</th>\n      <th>month_num</th>\n      <th>pinglun_num</th>\n      <th>shouchang_num</th>\n      <th>max_price</th>\n      <th>min_price</th>\n      <th>tag</th>\n      <th>desc</th>\n      <th>sub_title</th>\n    </tr>\n  </thead>\n  <tbody>\n    <tr>\n      <th>0</th>\n      <td>1</td>\n      <td>预售【巨型萌宠大礼包/1804g】休闲零食网红食品吃货</td>\n      <td>1804</td>\n      <td>138</td>\n      <td>42802</td>\n      <td>831591</td>\n      <td>563166</td>\n      <td>138.0</td>\n      <td>138.0</td>\n      <td>预售</td>\n      <td>巨型萌宠大礼包/1804g</td>\n      <td>休闲零食网红食品吃货</td>\n    </tr>\n    <tr>\n      <th>1</th>\n      <td>2</td>\n      <td>满减【夏威夷果160g】干货零食坚果干果散装袋装奶油味</td>\n      <td>160</td>\n      <td>45-90</td>\n      <td>55719</td>\n      <td>676830</td>\n      <td>363020</td>\n      <td>90.0</td>\n      <td>45.0</td>\n      <td>满减</td>\n      <td>夏威夷果160g</td>\n      <td>干货零食坚果干果散装袋装奶油味</td>\n    </tr>\n    <tr>\n      <th>2</th>\n      <td>3</td>\n      <td>【巨型零食大礼包/30袋装】休闲零食网红食品吃货送女友</td>\n      <td>2764</td>\n      <td>188</td>\n      <td>51386</td>\n      <td>388037</td>\n      <td>805650</td>\n      <td>188.0</td>\n      <td>188.0</td>\n      <td></td>\n      <td>巨型零食大礼包/30袋装</td>\n      <td>休闲零食网红食品吃货送女友</td>\n    </tr>\n    <tr>\n      <th>3</th>\n      <td>4</td>\n      <td>【坚果大礼包1463g/8件】零食端午礼盒每日坚果混合送礼</td>\n      <td>1463</td>\n      <td>98</td>\n      <td>69195</td>\n      <td>1019082</td>\n      <td>2490660</td>\n      <td>98.0</td>\n      <td>98.0</td>\n      <td></td>\n      <td>坚果大礼包1463g/8件</td>\n      <td>零食端午礼盒每日坚果混合送礼</td>\n    </tr>\n    <tr>\n      <th>4</th>\n      <td>5</td>\n      <td>【乳酸菌小伴侣520g/整箱】营养早餐蛋糕面包代餐点心</td>\n      <td>520</td>\n      <td>29.9</td>\n      <td>46429</td>\n      <td>864396</td>\n      <td>640866</td>\n      <td>29.9</td>\n      <td>29.9</td>\n      <td></td>\n      <td>乳酸菌小伴侣520g/整箱</td>\n      <td>营养早餐蛋糕面包代餐点心</td>\n    </tr>\n    <tr>\n      <th>...</th>\n      <td>...</td>\n      <td>...</td>\n      <td>...</td>\n      <td>...</td>\n      <td>...</td>\n      <td>...</td>\n      <td>...</td>\n      <td>...</td>\n      <td>...</td>\n      <td>...</td>\n      <td>...</td>\n      <td>...</td>\n    </tr>\n    <tr>\n      <th>132</th>\n      <td>133</td>\n      <td>【兰花豆205g】休闲零食干果坚果炒货蚕豆豌豆牛肉味</td>\n      <td>205</td>\n      <td>11.9</td>\n      <td>14991</td>\n      <td>108127</td>\n      <td>66192</td>\n      <td>11.9</td>\n      <td>11.9</td>\n      <td></td>\n      <td>兰花豆205g</td>\n      <td>休闲零食干果坚果炒货蚕豆豌豆牛肉味</td>\n    </tr>\n    <tr>\n      <th>133</th>\n      <td>134</td>\n      <td>【猪肉脯210g】麻辣零食风干熟食小吃肉脯肉干小包装</td>\n      <td>120</td>\n      <td>28.9</td>\n      <td>10702</td>\n      <td>9554</td>\n      <td>6388</td>\n      <td>28.9</td>\n      <td>28.9</td>\n      <td></td>\n      <td>猪肉脯210g</td>\n      <td>麻辣零食风干熟食小吃肉脯肉干小包装</td>\n    </tr>\n    <tr>\n      <th>134</th>\n      <td>135</td>\n      <td>满减【奶香华夫饼248g】休闲零食面包蛋糕早餐代餐网红</td>\n      <td>248</td>\n      <td>35.5</td>\n      <td>15181</td>\n      <td>19822</td>\n      <td>6524</td>\n      <td>35.5</td>\n      <td>35.5</td>\n      <td>满减</td>\n      <td>奶香华夫饼248g</td>\n      <td>休闲零食面包蛋糕早餐代餐网红</td>\n    </tr>\n    <tr>\n      <th>135</th>\n      <td>136</td>\n      <td>满减【夹心海苔36g】即食海味儿童零食紫菜芝麻/巴旦木</td>\n      <td>36</td>\n      <td>29.5</td>\n      <td>3494</td>\n      <td>107607</td>\n      <td>30088</td>\n      <td>29.5</td>\n      <td>29.5</td>\n      <td>满减</td>\n      <td>夹心海苔36g</td>\n      <td>即食海味儿童零食紫菜芝麻/巴旦木</td>\n    </tr>\n    <tr>\n      <th>136</th>\n      <td>137</td>\n      <td>满减【Q弹鸡蛋干240g】休闲零食蛋制品类豆干类豆制品</td>\n      <td>240</td>\n      <td>32.5</td>\n      <td>6484</td>\n      <td>70292</td>\n      <td>19644</td>\n      <td>32.5</td>\n      <td>32.5</td>\n      <td>满减</td>\n      <td>Q弹鸡蛋干240g</td>\n      <td>休闲零食蛋制品类豆干类豆制品</td>\n    </tr>\n  </tbody>\n</table>\n<p>137 rows × 12 columns</p>\n</div>"
     },
     "execution_count": 35,
     "metadata": {},
     "output_type": "execute_result"
    }
   ],
   "source": [
    "tag = []\n",
    "desc = []\n",
    "sub_title = []\n",
    "for i in data['title']:\n",
    "    j = i.find('【')\n",
    "    k = i.find('】')\n",
    "    if j == 0:\n",
    "        tag.append('')\n",
    "    else:\n",
    "        if i[0:j].endswith('_'):\n",
    "            tag.append(i[0:j - 1])\n",
    "        else:\n",
    "            tag.append(i[0:j])\n",
    "    desc.append(i[j + 1:k])\n",
    "    sub_title.append(i[k + 1:])\n",
    "    #print(i[j + 1:k])\n",
    "data['tag'] = tag\n",
    "data['desc'] = desc\n",
    "data['sub_title'] = sub_title\n",
    "data"
   ],
   "metadata": {
    "collapsed": false,
    "ExecuteTime": {
     "end_time": "2023-06-08T07:55:08.103890100Z",
     "start_time": "2023-06-08T07:55:08.021385400Z"
    }
   }
  },
  {
   "cell_type": "code",
   "execution_count": 39,
   "outputs": [
    {
     "data": {
      "text/plain": "    id                          title  weight    price  month_num  \\\n49  50    【手撕面包1kg】全麦蛋糕吐司早餐代餐食品整箱糕点零食    1000     29.9     444591   \n50  51         【售罄_零食大礼包】休闲食品零食小吃抖音爆款     581     44.9     320393   \n8    9  【每日坚果750g/30包】零食吃货大礼包干果混合孕妇礼盒     750      138     298445   \n6    7       【麻辣零食大礼包】网红卤味鸭脖小零食充饥夜宵整箱     390     39.8     267903   \n25  26   推荐_【岩烧乳酪吐司520g/整箱】面包早餐零食营养食品     520     29.9     189138   \n16  17    满减【猪肉脯100g】麻辣零食熟食风干靖江特产小吃肉干     100  29-45.9     143241   \n47  48      【零食大礼包】休闲零食网红吃货食品饼干箱装吃货充饥     927     59.9     123044   \n20  21      满减【蜀香牛肉】休闲麻辣零食小吃肉脯特产牛肉干美食     100     38.9     115698   \n83  84  推荐_【BIG大辣片230gx1袋】网红老式大辣条童年零食     230     11.9     110289   \n12  13   【芒果干116gx3】零食小吃蜜饯水果干网红休闲食品果脯     348     29.9     101583   \n\n    pinglun_num  shouchang_num  max_price  min_price tag           desc  \\\n49      1063381        1613308       29.9       29.9            手撕面包1kg   \n50       678440         232994       44.9       44.9           售罄_零食大礼包   \n8       1037960        1533564      138.0      138.0       每日坚果750g/30包   \n6       1062649         656568       39.8       39.8            麻辣零食大礼包   \n25       251573         263496       29.9       29.9  推荐  岩烧乳酪吐司520g/整箱   \n16       803331         298054       45.9       29.0  满减        猪肉脯100g   \n47      1092616        3217214       59.9       59.9              零食大礼包   \n20       522270         200836       38.9       38.9  满减           蜀香牛肉   \n83       138235          77252       11.9       11.9  推荐  BIG大辣片230gx1袋   \n12      1020113        1043230       29.9       29.9          芒果干116gx3   \n\n             sub_title  \n49  全麦蛋糕吐司早餐代餐食品整箱糕点零食  \n50        休闲食品零食小吃抖音爆款  \n8      零食吃货大礼包干果混合孕妇礼盒  \n6      网红卤味鸭脖小零食充饥夜宵整箱  \n25          面包早餐零食营养食品  \n16    麻辣零食熟食风干靖江特产小吃肉干  \n47  休闲零食网红吃货食品饼干箱装吃货充饥  \n20   休闲麻辣零食小吃肉脯特产牛肉干美食  \n83         网红老式大辣条童年零食  \n12   零食小吃蜜饯水果干网红休闲食品果脯  ",
      "text/html": "<div>\n<style scoped>\n    .dataframe tbody tr th:only-of-type {\n        vertical-align: middle;\n    }\n\n    .dataframe tbody tr th {\n        vertical-align: top;\n    }\n\n    .dataframe thead th {\n        text-align: right;\n    }\n</style>\n<table border=\"1\" class=\"dataframe\">\n  <thead>\n    <tr style=\"text-align: right;\">\n      <th></th>\n      <th>id</th>\n      <th>title</th>\n      <th>weight</th>\n      <th>price</th>\n      <th>month_num</th>\n      <th>pinglun_num</th>\n      <th>shouchang_num</th>\n      <th>max_price</th>\n      <th>min_price</th>\n      <th>tag</th>\n      <th>desc</th>\n      <th>sub_title</th>\n    </tr>\n  </thead>\n  <tbody>\n    <tr>\n      <th>49</th>\n      <td>50</td>\n      <td>【手撕面包1kg】全麦蛋糕吐司早餐代餐食品整箱糕点零食</td>\n      <td>1000</td>\n      <td>29.9</td>\n      <td>444591</td>\n      <td>1063381</td>\n      <td>1613308</td>\n      <td>29.9</td>\n      <td>29.9</td>\n      <td></td>\n      <td>手撕面包1kg</td>\n      <td>全麦蛋糕吐司早餐代餐食品整箱糕点零食</td>\n    </tr>\n    <tr>\n      <th>50</th>\n      <td>51</td>\n      <td>【售罄_零食大礼包】休闲食品零食小吃抖音爆款</td>\n      <td>581</td>\n      <td>44.9</td>\n      <td>320393</td>\n      <td>678440</td>\n      <td>232994</td>\n      <td>44.9</td>\n      <td>44.9</td>\n      <td></td>\n      <td>售罄_零食大礼包</td>\n      <td>休闲食品零食小吃抖音爆款</td>\n    </tr>\n    <tr>\n      <th>8</th>\n      <td>9</td>\n      <td>【每日坚果750g/30包】零食吃货大礼包干果混合孕妇礼盒</td>\n      <td>750</td>\n      <td>138</td>\n      <td>298445</td>\n      <td>1037960</td>\n      <td>1533564</td>\n      <td>138.0</td>\n      <td>138.0</td>\n      <td></td>\n      <td>每日坚果750g/30包</td>\n      <td>零食吃货大礼包干果混合孕妇礼盒</td>\n    </tr>\n    <tr>\n      <th>6</th>\n      <td>7</td>\n      <td>【麻辣零食大礼包】网红卤味鸭脖小零食充饥夜宵整箱</td>\n      <td>390</td>\n      <td>39.8</td>\n      <td>267903</td>\n      <td>1062649</td>\n      <td>656568</td>\n      <td>39.8</td>\n      <td>39.8</td>\n      <td></td>\n      <td>麻辣零食大礼包</td>\n      <td>网红卤味鸭脖小零食充饥夜宵整箱</td>\n    </tr>\n    <tr>\n      <th>25</th>\n      <td>26</td>\n      <td>推荐_【岩烧乳酪吐司520g/整箱】面包早餐零食营养食品</td>\n      <td>520</td>\n      <td>29.9</td>\n      <td>189138</td>\n      <td>251573</td>\n      <td>263496</td>\n      <td>29.9</td>\n      <td>29.9</td>\n      <td>推荐</td>\n      <td>岩烧乳酪吐司520g/整箱</td>\n      <td>面包早餐零食营养食品</td>\n    </tr>\n    <tr>\n      <th>16</th>\n      <td>17</td>\n      <td>满减【猪肉脯100g】麻辣零食熟食风干靖江特产小吃肉干</td>\n      <td>100</td>\n      <td>29-45.9</td>\n      <td>143241</td>\n      <td>803331</td>\n      <td>298054</td>\n      <td>45.9</td>\n      <td>29.0</td>\n      <td>满减</td>\n      <td>猪肉脯100g</td>\n      <td>麻辣零食熟食风干靖江特产小吃肉干</td>\n    </tr>\n    <tr>\n      <th>47</th>\n      <td>48</td>\n      <td>【零食大礼包】休闲零食网红吃货食品饼干箱装吃货充饥</td>\n      <td>927</td>\n      <td>59.9</td>\n      <td>123044</td>\n      <td>1092616</td>\n      <td>3217214</td>\n      <td>59.9</td>\n      <td>59.9</td>\n      <td></td>\n      <td>零食大礼包</td>\n      <td>休闲零食网红吃货食品饼干箱装吃货充饥</td>\n    </tr>\n    <tr>\n      <th>20</th>\n      <td>21</td>\n      <td>满减【蜀香牛肉】休闲麻辣零食小吃肉脯特产牛肉干美食</td>\n      <td>100</td>\n      <td>38.9</td>\n      <td>115698</td>\n      <td>522270</td>\n      <td>200836</td>\n      <td>38.9</td>\n      <td>38.9</td>\n      <td>满减</td>\n      <td>蜀香牛肉</td>\n      <td>休闲麻辣零食小吃肉脯特产牛肉干美食</td>\n    </tr>\n    <tr>\n      <th>83</th>\n      <td>84</td>\n      <td>推荐_【BIG大辣片230gx1袋】网红老式大辣条童年零食</td>\n      <td>230</td>\n      <td>11.9</td>\n      <td>110289</td>\n      <td>138235</td>\n      <td>77252</td>\n      <td>11.9</td>\n      <td>11.9</td>\n      <td>推荐</td>\n      <td>BIG大辣片230gx1袋</td>\n      <td>网红老式大辣条童年零食</td>\n    </tr>\n    <tr>\n      <th>12</th>\n      <td>13</td>\n      <td>【芒果干116gx3】零食小吃蜜饯水果干网红休闲食品果脯</td>\n      <td>348</td>\n      <td>29.9</td>\n      <td>101583</td>\n      <td>1020113</td>\n      <td>1043230</td>\n      <td>29.9</td>\n      <td>29.9</td>\n      <td></td>\n      <td>芒果干116gx3</td>\n      <td>零食小吃蜜饯水果干网红休闲食品果脯</td>\n    </tr>\n  </tbody>\n</table>\n</div>"
     },
     "execution_count": 39,
     "metadata": {},
     "output_type": "execute_result"
    }
   ],
   "source": [
    "data.sort_values('month_num', ascending=False).head(10)"
   ],
   "metadata": {
    "collapsed": false,
    "ExecuteTime": {
     "end_time": "2023-06-08T07:56:15.264125800Z",
     "start_time": "2023-06-08T07:56:15.220119500Z"
    }
   }
  },
  {
   "cell_type": "code",
   "execution_count": 40,
   "outputs": [
    {
     "data": {
      "text/plain": "0"
     },
     "execution_count": 40,
     "metadata": {},
     "output_type": "execute_result"
    }
   ],
   "source": [
    "data.duplicated().sum()"
   ],
   "metadata": {
    "collapsed": false,
    "ExecuteTime": {
     "end_time": "2023-06-08T07:59:31.215003Z",
     "start_time": "2023-06-08T07:59:31.136267300Z"
    }
   }
  },
  {
   "cell_type": "code",
   "execution_count": 43,
   "outputs": [],
   "source": [
    "max_price = pd.value_counts(data['max_price'])\n",
    "min_price = pd.value_counts(data['min_price'])\n",
    "month_num = pd.value_counts(data['month_num'])"
   ],
   "metadata": {
    "collapsed": false,
    "ExecuteTime": {
     "end_time": "2023-06-08T08:01:41.805669Z",
     "start_time": "2023-06-08T08:01:41.775069900Z"
    }
   }
  },
  {
   "cell_type": "code",
   "execution_count": null,
   "outputs": [],
   "source": [],
   "metadata": {
    "collapsed": false
   }
  }
 ],
 "metadata": {
  "kernelspec": {
   "display_name": "Python 3",
   "language": "python",
   "name": "python3"
  },
  "language_info": {
   "codemirror_mode": {
    "name": "ipython",
    "version": 2
   },
   "file_extension": ".py",
   "mimetype": "text/x-python",
   "name": "python",
   "nbconvert_exporter": "python",
   "pygments_lexer": "ipython2",
   "version": "2.7.6"
  }
 },
 "nbformat": 4,
 "nbformat_minor": 0
}
