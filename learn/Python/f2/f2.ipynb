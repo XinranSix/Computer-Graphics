{
 "cells": [
  {
   "cell_type": "code",
   "execution_count": 47,
   "metadata": {
    "collapsed": true,
    "ExecuteTime": {
     "end_time": "2023-06-09T04:03:20.939951100Z",
     "start_time": "2023-06-09T04:03:20.877447200Z"
    }
   },
   "outputs": [],
   "source": [
    "import pandas as pd\n",
    "import numpy as np\n",
    "import matplotlib.pyplot as plt\n",
    "from sklearn.model_selection import train_test_split\n",
    "from sklearn.linear_model import LinearRegression as LR\n",
    "\n",
    "plt.rcParams['font.sans-serif'] = ['SimHei']\n",
    "plt.rcParams['axes.unicode_minus'] = False\n"
   ]
  },
  {
   "cell_type": "code",
   "execution_count": 48,
   "outputs": [
    {
     "name": "stderr",
     "output_type": "stream",
     "text": [
      "C:\\Users\\yaojie\\anaconda3\\lib\\site-packages\\openpyxl\\worksheet\\header_footer.py:48: UserWarning: Cannot parse header or footer so it will be ignored\n",
      "  warn(\"\"\"Cannot parse header or footer so it will be ignored\"\"\")\n"
     ]
    }
   ],
   "source": [
    "data = pd.read_excel(io='./data4.xlsx', sheet_name=None)"
   ],
   "metadata": {
    "collapsed": false,
    "ExecuteTime": {
     "end_time": "2023-06-09T04:03:24.697698900Z",
     "start_time": "2023-06-09T04:03:20.893083300Z"
    }
   }
  },
  {
   "cell_type": "code",
   "execution_count": 49,
   "outputs": [
    {
     "name": "stdout",
     "output_type": "stream",
     "text": [
      "销售收入\n",
      "广告支出\n"
     ]
    }
   ],
   "source": [
    "for i in data:\n",
    "    print(i)"
   ],
   "metadata": {
    "collapsed": false,
    "ExecuteTime": {
     "end_time": "2023-06-09T04:03:24.775821200Z",
     "start_time": "2023-06-09T04:03:24.697698900Z"
    }
   }
  },
  {
   "cell_type": "code",
   "execution_count": 50,
   "outputs": [],
   "source": [
    "xiaoshoushouru = data['销售收入']\n",
    "guanggaozhichu = data['广告支出']"
   ],
   "metadata": {
    "collapsed": false,
    "ExecuteTime": {
     "end_time": "2023-06-09T04:03:24.775821200Z",
     "start_time": "2023-06-09T04:03:24.713316Z"
    }
   }
  },
  {
   "cell_type": "code",
   "execution_count": 51,
   "outputs": [],
   "source": [
    "guanggaozhichu['投放月份'] = [int(i.split('-')[1]) for i in list(guanggaozhichu['投放日期'])]\n",
    "guanggaozhichu['投放季度'] = [int((i - 1) / 3) + 1 for i in list(guanggaozhichu['投放月份'])]"
   ],
   "metadata": {
    "collapsed": false,
    "ExecuteTime": {
     "end_time": "2023-06-09T04:03:24.775821200Z",
     "start_time": "2023-06-09T04:03:24.728942400Z"
    }
   }
  },
  {
   "cell_type": "code",
   "execution_count": 52,
   "outputs": [],
   "source": [
    "guanggaozhichu = guanggaozhichu.drop('序号', axis=1)\n",
    "guanggaozhichu = guanggaozhichu.drop('交易类型', axis=1)\n",
    "guanggaozhichu = guanggaozhichu.drop('投放日期', axis=1)"
   ],
   "metadata": {
    "collapsed": false,
    "ExecuteTime": {
     "end_time": "2023-06-09T04:03:24.775821200Z",
     "start_time": "2023-06-09T04:03:24.744569400Z"
    }
   }
  },
  {
   "cell_type": "code",
   "execution_count": 53,
   "outputs": [
    {
     "data": {
      "text/plain": "          支出  投放月份  投放季度\n0     359.44     1     1\n1     383.73     1     1\n2     446.93     1     1\n3     368.78     1     1\n4     477.38     1     1\n..       ...   ...   ...\n176  2698.75     6     2\n177  2159.02     6     2\n178  1640.29     6     2\n179  1835.43     6     2\n180  1961.23     6     2\n\n[181 rows x 3 columns]",
      "text/html": "<div>\n<style scoped>\n    .dataframe tbody tr th:only-of-type {\n        vertical-align: middle;\n    }\n\n    .dataframe tbody tr th {\n        vertical-align: top;\n    }\n\n    .dataframe thead th {\n        text-align: right;\n    }\n</style>\n<table border=\"1\" class=\"dataframe\">\n  <thead>\n    <tr style=\"text-align: right;\">\n      <th></th>\n      <th>支出</th>\n      <th>投放月份</th>\n      <th>投放季度</th>\n    </tr>\n  </thead>\n  <tbody>\n    <tr>\n      <th>0</th>\n      <td>359.44</td>\n      <td>1</td>\n      <td>1</td>\n    </tr>\n    <tr>\n      <th>1</th>\n      <td>383.73</td>\n      <td>1</td>\n      <td>1</td>\n    </tr>\n    <tr>\n      <th>2</th>\n      <td>446.93</td>\n      <td>1</td>\n      <td>1</td>\n    </tr>\n    <tr>\n      <th>3</th>\n      <td>368.78</td>\n      <td>1</td>\n      <td>1</td>\n    </tr>\n    <tr>\n      <th>4</th>\n      <td>477.38</td>\n      <td>1</td>\n      <td>1</td>\n    </tr>\n    <tr>\n      <th>...</th>\n      <td>...</td>\n      <td>...</td>\n      <td>...</td>\n    </tr>\n    <tr>\n      <th>176</th>\n      <td>2698.75</td>\n      <td>6</td>\n      <td>2</td>\n    </tr>\n    <tr>\n      <th>177</th>\n      <td>2159.02</td>\n      <td>6</td>\n      <td>2</td>\n    </tr>\n    <tr>\n      <th>178</th>\n      <td>1640.29</td>\n      <td>6</td>\n      <td>2</td>\n    </tr>\n    <tr>\n      <th>179</th>\n      <td>1835.43</td>\n      <td>6</td>\n      <td>2</td>\n    </tr>\n    <tr>\n      <th>180</th>\n      <td>1961.23</td>\n      <td>6</td>\n      <td>2</td>\n    </tr>\n  </tbody>\n</table>\n<p>181 rows × 3 columns</p>\n</div>"
     },
     "execution_count": 53,
     "metadata": {},
     "output_type": "execute_result"
    }
   ],
   "source": [
    "guanggaozhichu"
   ],
   "metadata": {
    "collapsed": false,
    "ExecuteTime": {
     "end_time": "2023-06-09T04:03:24.775821200Z",
     "start_time": "2023-06-09T04:03:24.775821200Z"
    }
   }
  },
  {
   "cell_type": "code",
   "execution_count": 54,
   "outputs": [],
   "source": [
    "xiaoshoushouru['业务月份'] = [int(i.split('-')[1]) for i in list(xiaoshoushouru['业务日期'])]\n",
    "xiaoshoushouru['业务季度'] = [int((i - 1) / 3) + 1 for i in list(xiaoshoushouru['业务月份'])]"
   ],
   "metadata": {
    "collapsed": false,
    "ExecuteTime": {
     "end_time": "2023-06-09T04:03:24.869576400Z",
     "start_time": "2023-06-09T04:03:24.775821200Z"
    }
   }
  },
  {
   "cell_type": "code",
   "execution_count": 55,
   "outputs": [],
   "source": [
    "xiaoshoushouru = xiaoshoushouru.drop('单据类型', axis=1)\n",
    "xiaoshoushouru = xiaoshoushouru.drop('单据编号', axis=1)\n",
    "xiaoshoushouru = xiaoshoushouru.drop('合同主体', axis=1)\n",
    "xiaoshoushouru = xiaoshoushouru.drop('售后退货单号', axis=1)\n",
    "xiaoshoushouru = xiaoshoushouru.drop('商品名称', axis=1)\n",
    "xiaoshoushouru = xiaoshoushouru.drop('订单号', axis=1)\n",
    "xiaoshoushouru = xiaoshoushouru.drop('采购单号', axis=1)\n",
    "xiaoshoushouru = xiaoshoushouru.drop('采购员/销售员', axis=1)\n",
    "xiaoshoushouru = xiaoshoushouru.drop('sku编号', axis=1)\n",
    "xiaoshoushouru = xiaoshoushouru.drop('sku数量', axis=1)\n",
    "xiaoshoushouru = xiaoshoushouru.drop('业务日期', axis=1)"
   ],
   "metadata": {
    "collapsed": false,
    "ExecuteTime": {
     "end_time": "2023-06-09T04:03:24.916454400Z",
     "start_time": "2023-06-09T04:03:24.822699Z"
    }
   }
  },
  {
   "cell_type": "code",
   "execution_count": 56,
   "outputs": [
    {
     "data": {
      "text/plain": "          金额  业务月份  业务季度\n0      46.28     3     1\n1      29.90     3     1\n2      40.48     3     1\n3      92.56     3     1\n4      40.48     3     1\n...      ...   ...   ...\n24536  46.28     2     1\n24537  40.48     2     1\n24538  46.28     2     1\n24539  40.48     2     1\n24540  40.48     2     1\n\n[24541 rows x 3 columns]",
      "text/html": "<div>\n<style scoped>\n    .dataframe tbody tr th:only-of-type {\n        vertical-align: middle;\n    }\n\n    .dataframe tbody tr th {\n        vertical-align: top;\n    }\n\n    .dataframe thead th {\n        text-align: right;\n    }\n</style>\n<table border=\"1\" class=\"dataframe\">\n  <thead>\n    <tr style=\"text-align: right;\">\n      <th></th>\n      <th>金额</th>\n      <th>业务月份</th>\n      <th>业务季度</th>\n    </tr>\n  </thead>\n  <tbody>\n    <tr>\n      <th>0</th>\n      <td>46.28</td>\n      <td>3</td>\n      <td>1</td>\n    </tr>\n    <tr>\n      <th>1</th>\n      <td>29.90</td>\n      <td>3</td>\n      <td>1</td>\n    </tr>\n    <tr>\n      <th>2</th>\n      <td>40.48</td>\n      <td>3</td>\n      <td>1</td>\n    </tr>\n    <tr>\n      <th>3</th>\n      <td>92.56</td>\n      <td>3</td>\n      <td>1</td>\n    </tr>\n    <tr>\n      <th>4</th>\n      <td>40.48</td>\n      <td>3</td>\n      <td>1</td>\n    </tr>\n    <tr>\n      <th>...</th>\n      <td>...</td>\n      <td>...</td>\n      <td>...</td>\n    </tr>\n    <tr>\n      <th>24536</th>\n      <td>46.28</td>\n      <td>2</td>\n      <td>1</td>\n    </tr>\n    <tr>\n      <th>24537</th>\n      <td>40.48</td>\n      <td>2</td>\n      <td>1</td>\n    </tr>\n    <tr>\n      <th>24538</th>\n      <td>46.28</td>\n      <td>2</td>\n      <td>1</td>\n    </tr>\n    <tr>\n      <th>24539</th>\n      <td>40.48</td>\n      <td>2</td>\n      <td>1</td>\n    </tr>\n    <tr>\n      <th>24540</th>\n      <td>40.48</td>\n      <td>2</td>\n      <td>1</td>\n    </tr>\n  </tbody>\n</table>\n<p>24541 rows × 3 columns</p>\n</div>"
     },
     "execution_count": 56,
     "metadata": {},
     "output_type": "execute_result"
    }
   ],
   "source": [
    "xiaoshoushouru"
   ],
   "metadata": {
    "collapsed": false,
    "ExecuteTime": {
     "end_time": "2023-06-09T04:03:24.916454400Z",
     "start_time": "2023-06-09T04:03:24.853951300Z"
    }
   }
  },
  {
   "cell_type": "code",
   "execution_count": 57,
   "outputs": [
    {
     "data": {
      "text/plain": "<Figure size 640x480 with 1 Axes>",
      "image/png": "[encoded data removed]"
     },
     "metadata": {},
     "output_type": "display_data"
    }
   ],
   "source": [
    "bar1 = plt.bar(np.arange(0, len(xiaoshoushouru.groupby('业务季度')['金额'].sum())),\n",
    "               xiaoshoushouru.groupby('业务季度')['金额'].sum(), align='center', width=0.3, alpha=0.7, color='#ff9999',\n",
    "               tick_label=[\"第 %d 季度\" % (i) for i in sorted(list(set(xiaoshoushouru['业务季度'])))])\n",
    "\n",
    "plt.bar_label(bar1, padding=3)\n",
    "\n",
    "#展示结果\n",
    "plt.title('销售收入')\n",
    "plt.xlabel('收入（元）')\n",
    "plt.ylabel('季度')\n",
    "plt.show()"
   ],
   "metadata": {
    "collapsed": false,
    "ExecuteTime": {
     "end_time": "2023-06-09T04:03:25.088341300Z",
     "start_time": "2023-06-09T04:03:24.869576400Z"
    }
   }
  },
  {
   "cell_type": "code",
   "execution_count": 58,
   "outputs": [
    {
     "data": {
      "text/plain": "投放月份\n1    13985.51\n2     6265.78\n3    12116.45\n4    15832.77\n5    18064.53\n6    57013.59\nName: 支出, dtype: float64"
     },
     "execution_count": 58,
     "metadata": {},
     "output_type": "execute_result"
    }
   ],
   "source": [
    "zhichu = guanggaozhichu.groupby('投放月份')['支出'].sum()\n",
    "zhichu"
   ],
   "metadata": {
    "collapsed": false,
    "ExecuteTime": {
     "end_time": "2023-06-09T04:03:25.088341300Z",
     "start_time": "2023-06-09T04:03:25.057089600Z"
    }
   }
  },
  {
   "cell_type": "code",
   "execution_count": 59,
   "outputs": [
    {
     "data": {
      "text/plain": "业务月份\n1      5641.40\n2    116830.00\n3    209818.38\n4    194799.94\n5    184986.74\n6    360338.74\nName: 金额, dtype: float64"
     },
     "execution_count": 59,
     "metadata": {},
     "output_type": "execute_result"
    }
   ],
   "source": [
    "shouru = xiaoshoushouru.groupby('业务月份')['金额'].sum()\n",
    "shouru"
   ],
   "metadata": {
    "collapsed": false,
    "ExecuteTime": {
     "end_time": "2023-06-09T04:03:25.088341300Z",
     "start_time": "2023-06-09T04:03:25.057089600Z"
    }
   }
  },
  {
   "cell_type": "code",
   "execution_count": 60,
   "outputs": [],
   "source": [
    "X = pd.concat([zhichu], axis=1)\n",
    "Y = shouru"
   ],
   "metadata": {
    "collapsed": false,
    "ExecuteTime": {
     "end_time": "2023-06-09T04:03:25.088341300Z",
     "start_time": "2023-06-09T04:03:25.072715600Z"
    }
   }
  },
  {
   "cell_type": "code",
   "execution_count": 61,
   "outputs": [
    {
     "data": {
      "text/plain": "<Figure size 1000x800 with 1 Axes>",
      "image/png": "[encoded data removed]"
     },
     "metadata": {},
     "output_type": "display_data"
    }
   ],
   "source": [
    "width = 0.2\n",
    "xpos = np.arange(0, len(shouru))\n",
    "\n",
    "#生成柱状图\n",
    "fig, ax = plt.subplots(figsize=(10, 8))\n",
    "bars1 = plt.bar(xpos - width / 2, zhichu, align='center', width=width, alpha=0.9, color='#1f77b4', label='支出（元）')\n",
    "bars2 = plt.bar(xpos + width / 2, shouru, align='center', width=width, alpha=0.9, color='#ff7f0e', label='收入（元）')\n",
    "\n",
    "#设置每个柱子下面的记号\n",
    "ax.set_xticks(xpos)  #确定每个记号的位置\n",
    "ax.set_xticklabels([1, 2, 3, 4, 5, 6])\n",
    "\n",
    "ax.bar_label(bars1, padding=3)\n",
    "ax.bar_label(bars2, padding=3)\n",
    "\n",
    "#展示结果\n",
    "plt.title('输入与输入')\n",
    "plt.xlabel('月份')\n",
    "plt.ylabel('元')\n",
    "plt.legend()\n",
    "plt.show()"
   ],
   "metadata": {
    "collapsed": false,
    "ExecuteTime": {
     "end_time": "2023-06-09T04:03:25.323726100Z",
     "start_time": "2023-06-09T04:03:25.110181Z"
    }
   }
  },
  {
   "cell_type": "code",
   "execution_count": 62,
   "outputs": [],
   "source": [
    "Xtrain, Xtest, Ytrain, Ytest = train_test_split(X, Y, test_size=0.2)"
   ],
   "metadata": {
    "collapsed": false,
    "ExecuteTime": {
     "end_time": "2023-06-09T04:03:25.339351400Z",
     "start_time": "2023-06-09T04:03:25.323726100Z"
    }
   }
  },
  {
   "cell_type": "code",
   "execution_count": 63,
   "outputs": [],
   "source": [
    "reg = LR().fit(Xtrain, Ytrain)"
   ],
   "metadata": {
    "collapsed": false,
    "ExecuteTime": {
     "end_time": "2023-06-09T04:03:25.386230200Z",
     "start_time": "2023-06-09T04:03:25.339351400Z"
    }
   }
  },
  {
   "cell_type": "code",
   "execution_count": 64,
   "outputs": [
    {
     "data": {
      "text/plain": "array([158580.39222742, 167122.96241184])"
     },
     "execution_count": 64,
     "metadata": {},
     "output_type": "execute_result"
    }
   ],
   "source": [
    "yhat = reg.predict(Xtest)\n",
    "yhat"
   ],
   "metadata": {
    "collapsed": false,
    "ExecuteTime": {
     "end_time": "2023-06-09T04:03:25.386230200Z",
     "start_time": "2023-06-09T04:03:25.354976900Z"
    }
   }
  },
  {
   "cell_type": "code",
   "execution_count": 65,
   "outputs": [
    {
     "name": "stdout",
     "output_type": "stream",
     "text": [
      "[('支出', 4.570516829001454)]\n"
     ]
    }
   ],
   "source": [
    "print(list(zip(X.columns, reg.coef_)))"
   ],
   "metadata": {
    "collapsed": false,
    "ExecuteTime": {
     "end_time": "2023-06-09T04:03:25.386230200Z",
     "start_time": "2023-06-09T04:03:25.370603Z"
    }
   }
  },
  {
   "cell_type": "code",
   "execution_count": 66,
   "outputs": [
    {
     "name": "stdout",
     "output_type": "stream",
     "text": [
      "103201.9535946698\n"
     ]
    }
   ],
   "source": [
    "print(reg.intercept_)"
   ],
   "metadata": {
    "collapsed": false,
    "ExecuteTime": {
     "end_time": "2023-06-09T04:03:25.396394400Z",
     "start_time": "2023-06-09T04:03:25.386230200Z"
    }
   }
  },
  {
   "cell_type": "code",
   "execution_count": 67,
   "outputs": [
    {
     "data": {
      "text/plain": "array([459702.26625678])"
     },
     "execution_count": 67,
     "metadata": {},
     "output_type": "execute_result"
    }
   ],
   "source": [
    "reg.coef_ * 78000 + reg.intercept_"
   ],
   "metadata": {
    "collapsed": false,
    "ExecuteTime": {
     "end_time": "2023-06-09T04:03:25.450872100Z",
     "start_time": "2023-06-09T04:03:25.396394400Z"
    }
   }
  },
  {
   "cell_type": "code",
   "execution_count": 68,
   "outputs": [
    {
     "data": {
      "text/plain": "<matplotlib.legend.Legend at 0x2dc6eb7a290>"
     },
     "execution_count": 68,
     "metadata": {},
     "output_type": "execute_result"
    },
    {
     "data": {
      "text/plain": "<Figure size 640x480 with 1 Axes>",
      "image/png": "[encoded data removed]"
     },
     "metadata": {},
     "output_type": "display_data"
    }
   ],
   "source": [
    "plt.plot(range(1, len(shouru) + 1), [reg.coef_ * i + reg.intercept_ for i in list(zhichu)])\n",
    "plt.plot(range(1, len(shouru) + 1), shouru)\n",
    "\n",
    "plt.xlabel('月份')\n",
    "plt.ylabel('收入')\n",
    "plt.title('线性回归预测结果')\n",
    "plt.legend(['预计', '实际'])"
   ],
   "metadata": {
    "collapsed": false,
    "ExecuteTime": {
     "end_time": "2023-06-09T04:03:25.632460300Z",
     "start_time": "2023-06-09T04:03:25.412020400Z"
    }
   }
  },
  {
   "cell_type": "markdown",
   "source": [],
   "metadata": {
    "collapsed": false
   }
  },
  {
   "cell_type": "code",
   "execution_count": 68,
   "outputs": [],
   "source": [],
   "metadata": {
    "collapsed": false,
    "ExecuteTime": {
     "end_time": "2023-06-09T04:03:25.648342100Z",
     "start_time": "2023-06-09T04:03:25.632460300Z"
    }
   }
  },
  {
   "cell_type": "code",
   "execution_count": 68,
   "outputs": [],
   "source": [],
   "metadata": {
    "collapsed": false,
    "ExecuteTime": {
     "end_time": "2023-06-09T04:03:25.663967900Z",
     "start_time": "2023-06-09T04:03:25.648342100Z"
    }
   }
  },
  {
   "cell_type": "code",
   "execution_count": 68,
   "outputs": [],
   "source": [],
   "metadata": {
    "collapsed": false,
    "ExecuteTime": {
     "end_time": "2023-06-09T04:03:25.679594800Z",
     "start_time": "2023-06-09T04:03:25.663967900Z"
    }
   }
  }
 ],
 "metadata": {
  "kernelspec": {
   "display_name": "Python 3",
   "language": "python",
   "name": "python3"
  },
  "language_info": {
   "codemirror_mode": {
    "name": "ipython",
    "version": 2
   },
   "file_extension": ".py",
   "mimetype": "text/x-python",
   "name": "python",
   "nbconvert_exporter": "python",
   "pygments_lexer": "ipython2",
   "version": "2.7.6"
  }
 },
 "nbformat": 4,
 "nbformat_minor": 0
}
