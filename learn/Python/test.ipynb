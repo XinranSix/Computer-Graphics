{
 "cells": [
  {
   "cell_type": "code",
   "execution_count": 2,
   "metadata": {
    "collapsed": true,
    "ExecuteTime": {
     "end_time": "2023-05-26T00:23:32.147147Z",
     "start_time": "2023-05-26T00:23:31.611366900Z"
    }
   },
   "outputs": [],
   "source": [
    "import os\n",
    "import re\n",
    "import pandas as pd\n",
    "import numpy as np"
   ]
  },
  {
   "cell_type": "code",
   "execution_count": 3,
   "outputs": [],
   "source": [
    "input_dir = './raw_data/'\n",
    "files = os.listdir(input_dir)\n",
    "\n",
    "data_list = []\n",
    "for file in files:\n",
    "    data_list.append(pd.read_excel(input_dir + file))"
   ],
   "metadata": {
    "collapsed": false,
    "ExecuteTime": {
     "end_time": "2023-05-26T00:23:39.859141700Z",
     "start_time": "2023-05-26T00:23:32.148148100Z"
    }
   }
  },
  {
   "cell_type": "code",
   "execution_count": 4,
   "outputs": [
    {
     "name": "stdout",
     "output_type": "stream",
     "text": [
      "52256\n"
     ]
    },
    {
     "data": {
      "text/plain": "                       描述     位置信息  区域  \\\n0       威兰德装修套三对中庭，客户只给契税   威兰德小镇   双流   \n1  房子清水套三户型方正采光好无遮挡，视野开阔！  南湖逸家二期   双流   \n2     南湖逸家满二精装房，中间楼层，采光良好  南湖逸家二期   双流   \n3       佰客郡精装修房子配套成熟业主真心卖     佰客郡   双流   \n4      加贝书香尚品 精装修 带家具家电出售  加贝书香尚品   双流   \n\n                                                房屋信息              关注信息  \\\n0   3室2厅 | 86.4平米 | 东 | 简装 | 中楼层(共26层) | 2016年建 | 塔楼  135人关注 / 6个月以前发布   \n1  3室1厅 | 66.12平米 | 东 | 毛坯 | 高楼层(共33层) | 2017年建 |...   40人关注 / 2个月以前发布   \n2  3室1厅 | 73.59平米 | 南 | 精装 | 中楼层(共34层) | 2017年建 |...   58人关注 / 15天以前发布   \n3  2室1厅 | 75.4平米 | 东 北 | 简装 | 中楼层(共16层) | 2011年建 ...   36人关注 / 2个月以前发布   \n4  1室1厅 | 51.69平米 | 南 | 精装 | 高楼层(共15层) | 2007年建 | 板楼   38人关注 / 1个月以前发布   \n\n       总价           单价  \n0   91.8万  单价10625元/平米  \n1  128.5万  单价19435元/平米  \n2    153万  单价20791元/平米  \n3     89万  单价11804元/平米  \n4   64.5万  单价12479元/平米  ",
      "text/html": "<div>\n<style scoped>\n    .dataframe tbody tr th:only-of-type {\n        vertical-align: middle;\n    }\n\n    .dataframe tbody tr th {\n        vertical-align: top;\n    }\n\n    .dataframe thead th {\n        text-align: right;\n    }\n</style>\n<table border=\"1\" class=\"dataframe\">\n  <thead>\n    <tr style=\"text-align: right;\">\n      <th></th>\n      <th>描述</th>\n      <th>位置信息</th>\n      <th>区域</th>\n      <th>房屋信息</th>\n      <th>关注信息</th>\n      <th>总价</th>\n      <th>单价</th>\n    </tr>\n  </thead>\n  <tbody>\n    <tr>\n      <th>0</th>\n      <td>威兰德装修套三对中庭，客户只给契税</td>\n      <td>威兰德小镇</td>\n      <td>双流</td>\n      <td>3室2厅 | 86.4平米 | 东 | 简装 | 中楼层(共26层) | 2016年建 | 塔楼</td>\n      <td>135人关注 / 6个月以前发布</td>\n      <td>91.8万</td>\n      <td>单价10625元/平米</td>\n    </tr>\n    <tr>\n      <th>1</th>\n      <td>房子清水套三户型方正采光好无遮挡，视野开阔！</td>\n      <td>南湖逸家二期</td>\n      <td>双流</td>\n      <td>3室1厅 | 66.12平米 | 东 | 毛坯 | 高楼层(共33层) | 2017年建 |...</td>\n      <td>40人关注 / 2个月以前发布</td>\n      <td>128.5万</td>\n      <td>单价19435元/平米</td>\n    </tr>\n    <tr>\n      <th>2</th>\n      <td>南湖逸家满二精装房，中间楼层，采光良好</td>\n      <td>南湖逸家二期</td>\n      <td>双流</td>\n      <td>3室1厅 | 73.59平米 | 南 | 精装 | 中楼层(共34层) | 2017年建 |...</td>\n      <td>58人关注 / 15天以前发布</td>\n      <td>153万</td>\n      <td>单价20791元/平米</td>\n    </tr>\n    <tr>\n      <th>3</th>\n      <td>佰客郡精装修房子配套成熟业主真心卖</td>\n      <td>佰客郡</td>\n      <td>双流</td>\n      <td>2室1厅 | 75.4平米 | 东 北 | 简装 | 中楼层(共16层) | 2011年建 ...</td>\n      <td>36人关注 / 2个月以前发布</td>\n      <td>89万</td>\n      <td>单价11804元/平米</td>\n    </tr>\n    <tr>\n      <th>4</th>\n      <td>加贝书香尚品 精装修 带家具家电出售</td>\n      <td>加贝书香尚品</td>\n      <td>双流</td>\n      <td>1室1厅 | 51.69平米 | 南 | 精装 | 高楼层(共15层) | 2007年建 | 板楼</td>\n      <td>38人关注 / 1个月以前发布</td>\n      <td>64.5万</td>\n      <td>单价12479元/平米</td>\n    </tr>\n  </tbody>\n</table>\n</div>"
     },
     "execution_count": 4,
     "metadata": {},
     "output_type": "execute_result"
    }
   ],
   "source": [
    "data = pd.concat(data_list)\n",
    "\n",
    "data = data.reset_index()\n",
    "data = data.drop(\"index\", axis=1)\n",
    "\n",
    "print(len(data))\n",
    "\n",
    "data.head(5)"
   ],
   "metadata": {
    "collapsed": false,
    "ExecuteTime": {
     "end_time": "2023-05-26T00:23:39.905135700Z",
     "start_time": "2023-05-26T00:23:39.861123400Z"
    }
   }
  },
  {
   "cell_type": "code",
   "execution_count": 5,
   "outputs": [
    {
     "data": {
      "text/plain": "7    39045\n6    12669\n8      370\n4      122\n5       50\nName: 房屋信息, dtype: int64"
     },
     "execution_count": 5,
     "metadata": {},
     "output_type": "execute_result"
    }
   ],
   "source": [
    "nrec = data.房屋信息.map(lambda x: len(x.split('|')))\n",
    "nrec.value_counts()"
   ],
   "metadata": {
    "collapsed": false,
    "ExecuteTime": {
     "end_time": "2023-05-26T00:23:40.020206400Z",
     "start_time": "2023-05-26T00:23:39.906135700Z"
    }
   }
  },
  {
   "cell_type": "code",
   "execution_count": 6,
   "outputs": [
    {
     "data": {
      "text/plain": "39045"
     },
     "execution_count": 6,
     "metadata": {},
     "output_type": "execute_result"
    }
   ],
   "source": [
    "data = data[nrec == 7]\n",
    "len(data)"
   ],
   "metadata": {
    "collapsed": false,
    "ExecuteTime": {
     "end_time": "2023-05-26T00:23:40.020206400Z",
     "start_time": "2023-05-26T00:23:39.972196Z"
    }
   }
  },
  {
   "cell_type": "code",
   "execution_count": 7,
   "outputs": [
    {
     "data": {
      "text/plain": "                       描述     位置信息  区域              关注信息      总价           单价  \\\n0       威兰德装修套三对中庭，客户只给契税   威兰德小镇   双流  135人关注 / 6个月以前发布   91.8万  单价10625元/平米   \n1  房子清水套三户型方正采光好无遮挡，视野开阔！  南湖逸家二期   双流   40人关注 / 2个月以前发布  128.5万  单价19435元/平米   \n2     南湖逸家满二精装房，中间楼层，采光良好  南湖逸家二期   双流   58人关注 / 15天以前发布    153万  单价20791元/平米   \n3       佰客郡精装修房子配套成熟业主真心卖     佰客郡   双流   36人关注 / 2个月以前发布     89万  单价11804元/平米   \n4      加贝书香尚品 精装修 带家具家电出售  加贝书香尚品   双流   38人关注 / 1个月以前发布   64.5万  单价12479元/平米   \n\n      户型         面积     朝向    类型           楼层      建成时间     结构  \n0  3室2厅     86.4平米      东    简装    中楼层(共26层)    2016年建      塔楼  \n1  3室1厅    66.12平米      东    毛坯    高楼层(共33层)    2017年建    板塔结合  \n2  3室1厅    73.59平米      南    精装    中楼层(共34层)    2017年建    板塔结合  \n3  2室1厅     75.4平米    东 北    简装    中楼层(共16层)    2011年建      板楼  \n4  1室1厅    51.69平米      南    精装    高楼层(共15层)    2007年建      板楼  ",
      "text/html": "<div>\n<style scoped>\n    .dataframe tbody tr th:only-of-type {\n        vertical-align: middle;\n    }\n\n    .dataframe tbody tr th {\n        vertical-align: top;\n    }\n\n    .dataframe thead th {\n        text-align: right;\n    }\n</style>\n<table border=\"1\" class=\"dataframe\">\n  <thead>\n    <tr style=\"text-align: right;\">\n      <th></th>\n      <th>描述</th>\n      <th>位置信息</th>\n      <th>区域</th>\n      <th>关注信息</th>\n      <th>总价</th>\n      <th>单价</th>\n      <th>户型</th>\n      <th>面积</th>\n      <th>朝向</th>\n      <th>类型</th>\n      <th>楼层</th>\n      <th>建成时间</th>\n      <th>结构</th>\n    </tr>\n  </thead>\n  <tbody>\n    <tr>\n      <th>0</th>\n      <td>威兰德装修套三对中庭，客户只给契税</td>\n      <td>威兰德小镇</td>\n      <td>双流</td>\n      <td>135人关注 / 6个月以前发布</td>\n      <td>91.8万</td>\n      <td>单价10625元/平米</td>\n      <td>3室2厅</td>\n      <td>86.4平米</td>\n      <td>东</td>\n      <td>简装</td>\n      <td>中楼层(共26层)</td>\n      <td>2016年建</td>\n      <td>塔楼</td>\n    </tr>\n    <tr>\n      <th>1</th>\n      <td>房子清水套三户型方正采光好无遮挡，视野开阔！</td>\n      <td>南湖逸家二期</td>\n      <td>双流</td>\n      <td>40人关注 / 2个月以前发布</td>\n      <td>128.5万</td>\n      <td>单价19435元/平米</td>\n      <td>3室1厅</td>\n      <td>66.12平米</td>\n      <td>东</td>\n      <td>毛坯</td>\n      <td>高楼层(共33层)</td>\n      <td>2017年建</td>\n      <td>板塔结合</td>\n    </tr>\n    <tr>\n      <th>2</th>\n      <td>南湖逸家满二精装房，中间楼层，采光良好</td>\n      <td>南湖逸家二期</td>\n      <td>双流</td>\n      <td>58人关注 / 15天以前发布</td>\n      <td>153万</td>\n      <td>单价20791元/平米</td>\n      <td>3室1厅</td>\n      <td>73.59平米</td>\n      <td>南</td>\n      <td>精装</td>\n      <td>中楼层(共34层)</td>\n      <td>2017年建</td>\n      <td>板塔结合</td>\n    </tr>\n    <tr>\n      <th>3</th>\n      <td>佰客郡精装修房子配套成熟业主真心卖</td>\n      <td>佰客郡</td>\n      <td>双流</td>\n      <td>36人关注 / 2个月以前发布</td>\n      <td>89万</td>\n      <td>单价11804元/平米</td>\n      <td>2室1厅</td>\n      <td>75.4平米</td>\n      <td>东 北</td>\n      <td>简装</td>\n      <td>中楼层(共16层)</td>\n      <td>2011年建</td>\n      <td>板楼</td>\n    </tr>\n    <tr>\n      <th>4</th>\n      <td>加贝书香尚品 精装修 带家具家电出售</td>\n      <td>加贝书香尚品</td>\n      <td>双流</td>\n      <td>38人关注 / 1个月以前发布</td>\n      <td>64.5万</td>\n      <td>单价12479元/平米</td>\n      <td>1室1厅</td>\n      <td>51.69平米</td>\n      <td>南</td>\n      <td>精装</td>\n      <td>高楼层(共15层)</td>\n      <td>2007年建</td>\n      <td>板楼</td>\n    </tr>\n  </tbody>\n</table>\n</div>"
     },
     "execution_count": 7,
     "metadata": {},
     "output_type": "execute_result"
    }
   ],
   "source": [
    "data['户型'] = data.房屋信息.map(lambda x: x.split('|')[0])\n",
    "data['面积'] = data.房屋信息.map(lambda x: x.split('|')[1])\n",
    "data['朝向'] = data.房屋信息.map(lambda x: x.split('|')[2])\n",
    "data['类型'] = data.房屋信息.map(lambda x: x.split('|')[3])\n",
    "data['楼层'] = data.房屋信息.map(lambda x: x.split('|')[4])\n",
    "data['建成时间'] = data.房屋信息.map(lambda x: x.split('|')[5])\n",
    "data['结构'] = data.房屋信息.map(lambda x: x.split('|')[6])\n",
    "\n",
    "data = data.drop('房屋信息', axis=1)\n",
    "data.head()"
   ],
   "metadata": {
    "collapsed": false,
    "ExecuteTime": {
     "end_time": "2023-05-26T00:23:40.187252300Z",
     "start_time": "2023-05-26T00:23:39.986201200Z"
    }
   }
  },
  {
   "cell_type": "code",
   "execution_count": 8,
   "outputs": [
    {
     "data": {
      "text/plain": "2    39045\nName: 关注信息, dtype: int64"
     },
     "execution_count": 8,
     "metadata": {},
     "output_type": "execute_result"
    }
   ],
   "source": [
    "nrec = data.关注信息.map(lambda x: len(x.split('/')))\n",
    "nrec.value_counts()"
   ],
   "metadata": {
    "collapsed": false,
    "ExecuteTime": {
     "end_time": "2023-05-26T00:24:28.076801400Z",
     "start_time": "2023-05-26T00:24:28.026786400Z"
    }
   }
  },
  {
   "cell_type": "code",
   "execution_count": 9,
   "outputs": [
    {
     "data": {
      "text/plain": "                       描述     位置信息  区域      总价           单价     户型         面积  \\\n0       威兰德装修套三对中庭，客户只给契税   威兰德小镇   双流   91.8万  单价10625元/平米  3室2厅     86.4平米    \n1  房子清水套三户型方正采光好无遮挡，视野开阔！  南湖逸家二期   双流  128.5万  单价19435元/平米  3室1厅    66.12平米    \n2     南湖逸家满二精装房，中间楼层，采光良好  南湖逸家二期   双流    153万  单价20791元/平米  3室1厅    73.59平米    \n3       佰客郡精装修房子配套成熟业主真心卖     佰客郡   双流     89万  单价11804元/平米  2室1厅     75.4平米    \n4      加贝书香尚品 精装修 带家具家电出售  加贝书香尚品   双流   64.5万  单价12479元/平米  1室1厅    51.69平米    \n\n      朝向    类型           楼层      建成时间     结构     关注人数      发布时间  \n0     东    简装    中楼层(共26层)    2016年建      塔楼  135人关注    6个月以前发布  \n1     东    毛坯    高楼层(共33层)    2017年建    板塔结合   40人关注    2个月以前发布  \n2     南    精装    中楼层(共34层)    2017年建    板塔结合   58人关注    15天以前发布  \n3   东 北    简装    中楼层(共16层)    2011年建      板楼   36人关注    2个月以前发布  \n4     南    精装    高楼层(共15层)    2007年建      板楼   38人关注    1个月以前发布  ",
      "text/html": "<div>\n<style scoped>\n    .dataframe tbody tr th:only-of-type {\n        vertical-align: middle;\n    }\n\n    .dataframe tbody tr th {\n        vertical-align: top;\n    }\n\n    .dataframe thead th {\n        text-align: right;\n    }\n</style>\n<table border=\"1\" class=\"dataframe\">\n  <thead>\n    <tr style=\"text-align: right;\">\n      <th></th>\n      <th>描述</th>\n      <th>位置信息</th>\n      <th>区域</th>\n      <th>总价</th>\n      <th>单价</th>\n      <th>户型</th>\n      <th>面积</th>\n      <th>朝向</th>\n      <th>类型</th>\n      <th>楼层</th>\n      <th>建成时间</th>\n      <th>结构</th>\n      <th>关注人数</th>\n      <th>发布时间</th>\n    </tr>\n  </thead>\n  <tbody>\n    <tr>\n      <th>0</th>\n      <td>威兰德装修套三对中庭，客户只给契税</td>\n      <td>威兰德小镇</td>\n      <td>双流</td>\n      <td>91.8万</td>\n      <td>单价10625元/平米</td>\n      <td>3室2厅</td>\n      <td>86.4平米</td>\n      <td>东</td>\n      <td>简装</td>\n      <td>中楼层(共26层)</td>\n      <td>2016年建</td>\n      <td>塔楼</td>\n      <td>135人关注</td>\n      <td>6个月以前发布</td>\n    </tr>\n    <tr>\n      <th>1</th>\n      <td>房子清水套三户型方正采光好无遮挡，视野开阔！</td>\n      <td>南湖逸家二期</td>\n      <td>双流</td>\n      <td>128.5万</td>\n      <td>单价19435元/平米</td>\n      <td>3室1厅</td>\n      <td>66.12平米</td>\n      <td>东</td>\n      <td>毛坯</td>\n      <td>高楼层(共33层)</td>\n      <td>2017年建</td>\n      <td>板塔结合</td>\n      <td>40人关注</td>\n      <td>2个月以前发布</td>\n    </tr>\n    <tr>\n      <th>2</th>\n      <td>南湖逸家满二精装房，中间楼层，采光良好</td>\n      <td>南湖逸家二期</td>\n      <td>双流</td>\n      <td>153万</td>\n      <td>单价20791元/平米</td>\n      <td>3室1厅</td>\n      <td>73.59平米</td>\n      <td>南</td>\n      <td>精装</td>\n      <td>中楼层(共34层)</td>\n      <td>2017年建</td>\n      <td>板塔结合</td>\n      <td>58人关注</td>\n      <td>15天以前发布</td>\n    </tr>\n    <tr>\n      <th>3</th>\n      <td>佰客郡精装修房子配套成熟业主真心卖</td>\n      <td>佰客郡</td>\n      <td>双流</td>\n      <td>89万</td>\n      <td>单价11804元/平米</td>\n      <td>2室1厅</td>\n      <td>75.4平米</td>\n      <td>东 北</td>\n      <td>简装</td>\n      <td>中楼层(共16层)</td>\n      <td>2011年建</td>\n      <td>板楼</td>\n      <td>36人关注</td>\n      <td>2个月以前发布</td>\n    </tr>\n    <tr>\n      <th>4</th>\n      <td>加贝书香尚品 精装修 带家具家电出售</td>\n      <td>加贝书香尚品</td>\n      <td>双流</td>\n      <td>64.5万</td>\n      <td>单价12479元/平米</td>\n      <td>1室1厅</td>\n      <td>51.69平米</td>\n      <td>南</td>\n      <td>精装</td>\n      <td>高楼层(共15层)</td>\n      <td>2007年建</td>\n      <td>板楼</td>\n      <td>38人关注</td>\n      <td>1个月以前发布</td>\n    </tr>\n  </tbody>\n</table>\n</div>"
     },
     "execution_count": 9,
     "metadata": {},
     "output_type": "execute_result"
    }
   ],
   "source": [
    "data['关注人数'] = data.关注信息.map(lambda x: x.split('/')[0])\n",
    "data['发布时间'] = data.关注信息.map(lambda x: x.split('/')[1])\n",
    "\n",
    "data = data.drop('关注信息', axis=1)\n",
    "data.head()"
   ],
   "metadata": {
    "collapsed": false,
    "ExecuteTime": {
     "end_time": "2023-05-26T00:26:08.296643100Z",
     "start_time": "2023-05-26T00:26:08.176602800Z"
    }
   }
  },
  {
   "cell_type": "code",
   "execution_count": 10,
   "outputs": [
    {
     "data": {
      "text/plain": "          描述   位置信息     区域     总价     单价     户型     面积     朝向     类型     楼层  \\\n0      False  False  False  False  False  False  False  False  False  False   \n1      False  False  False  False  False  False  False  False  False  False   \n2      False  False  False  False  False  False  False  False  False  False   \n3      False  False  False  False  False  False  False  False  False  False   \n4      False  False  False  False  False  False  False  False  False  False   \n...      ...    ...    ...    ...    ...    ...    ...    ...    ...    ...   \n52248  False  False  False  False  False  False  False  False  False  False   \n52249  False  False  False  False  False  False  False  False  False  False   \n52250  False  False  False  False  False  False  False  False  False  False   \n52251  False  False  False  False  False  False  False  False  False  False   \n52254  False  False  False  False  False  False  False  False  False  False   \n\n        建成时间     结构   关注人数   发布时间  \n0      False  False  False  False  \n1      False  False  False  False  \n2      False  False  False  False  \n3      False  False  False  False  \n4      False  False  False  False  \n...      ...    ...    ...    ...  \n52248  False  False  False  False  \n52249  False  False  False  False  \n52250  False  False  False  False  \n52251  False  False  False  False  \n52254  False  False  False  False  \n\n[39045 rows x 14 columns]",
      "text/html": "<div>\n<style scoped>\n    .dataframe tbody tr th:only-of-type {\n        vertical-align: middle;\n    }\n\n    .dataframe tbody tr th {\n        vertical-align: top;\n    }\n\n    .dataframe thead th {\n        text-align: right;\n    }\n</style>\n<table border=\"1\" class=\"dataframe\">\n  <thead>\n    <tr style=\"text-align: right;\">\n      <th></th>\n      <th>描述</th>\n      <th>位置信息</th>\n      <th>区域</th>\n      <th>总价</th>\n      <th>单价</th>\n      <th>户型</th>\n      <th>面积</th>\n      <th>朝向</th>\n      <th>类型</th>\n      <th>楼层</th>\n      <th>建成时间</th>\n      <th>结构</th>\n      <th>关注人数</th>\n      <th>发布时间</th>\n    </tr>\n  </thead>\n  <tbody>\n    <tr>\n      <th>0</th>\n      <td>False</td>\n      <td>False</td>\n      <td>False</td>\n      <td>False</td>\n      <td>False</td>\n      <td>False</td>\n      <td>False</td>\n      <td>False</td>\n      <td>False</td>\n      <td>False</td>\n      <td>False</td>\n      <td>False</td>\n      <td>False</td>\n      <td>False</td>\n    </tr>\n    <tr>\n      <th>1</th>\n      <td>False</td>\n      <td>False</td>\n      <td>False</td>\n      <td>False</td>\n      <td>False</td>\n      <td>False</td>\n      <td>False</td>\n      <td>False</td>\n      <td>False</td>\n      <td>False</td>\n      <td>False</td>\n      <td>False</td>\n      <td>False</td>\n      <td>False</td>\n    </tr>\n    <tr>\n      <th>2</th>\n      <td>False</td>\n      <td>False</td>\n      <td>False</td>\n      <td>False</td>\n      <td>False</td>\n      <td>False</td>\n      <td>False</td>\n      <td>False</td>\n      <td>False</td>\n      <td>False</td>\n      <td>False</td>\n      <td>False</td>\n      <td>False</td>\n      <td>False</td>\n    </tr>\n    <tr>\n      <th>3</th>\n      <td>False</td>\n      <td>False</td>\n      <td>False</td>\n      <td>False</td>\n      <td>False</td>\n      <td>False</td>\n      <td>False</td>\n      <td>False</td>\n      <td>False</td>\n      <td>False</td>\n      <td>False</td>\n      <td>False</td>\n      <td>False</td>\n      <td>False</td>\n    </tr>\n    <tr>\n      <th>4</th>\n      <td>False</td>\n      <td>False</td>\n      <td>False</td>\n      <td>False</td>\n      <td>False</td>\n      <td>False</td>\n      <td>False</td>\n      <td>False</td>\n      <td>False</td>\n      <td>False</td>\n      <td>False</td>\n      <td>False</td>\n      <td>False</td>\n      <td>False</td>\n    </tr>\n    <tr>\n      <th>...</th>\n      <td>...</td>\n      <td>...</td>\n      <td>...</td>\n      <td>...</td>\n      <td>...</td>\n      <td>...</td>\n      <td>...</td>\n      <td>...</td>\n      <td>...</td>\n      <td>...</td>\n      <td>...</td>\n      <td>...</td>\n      <td>...</td>\n      <td>...</td>\n    </tr>\n    <tr>\n      <th>52248</th>\n      <td>False</td>\n      <td>False</td>\n      <td>False</td>\n      <td>False</td>\n      <td>False</td>\n      <td>False</td>\n      <td>False</td>\n      <td>False</td>\n      <td>False</td>\n      <td>False</td>\n      <td>False</td>\n      <td>False</td>\n      <td>False</td>\n      <td>False</td>\n    </tr>\n    <tr>\n      <th>52249</th>\n      <td>False</td>\n      <td>False</td>\n      <td>False</td>\n      <td>False</td>\n      <td>False</td>\n      <td>False</td>\n      <td>False</td>\n      <td>False</td>\n      <td>False</td>\n      <td>False</td>\n      <td>False</td>\n      <td>False</td>\n      <td>False</td>\n      <td>False</td>\n    </tr>\n    <tr>\n      <th>52250</th>\n      <td>False</td>\n      <td>False</td>\n      <td>False</td>\n      <td>False</td>\n      <td>False</td>\n      <td>False</td>\n      <td>False</td>\n      <td>False</td>\n      <td>False</td>\n      <td>False</td>\n      <td>False</td>\n      <td>False</td>\n      <td>False</td>\n      <td>False</td>\n    </tr>\n    <tr>\n      <th>52251</th>\n      <td>False</td>\n      <td>False</td>\n      <td>False</td>\n      <td>False</td>\n      <td>False</td>\n      <td>False</td>\n      <td>False</td>\n      <td>False</td>\n      <td>False</td>\n      <td>False</td>\n      <td>False</td>\n      <td>False</td>\n      <td>False</td>\n      <td>False</td>\n    </tr>\n    <tr>\n      <th>52254</th>\n      <td>False</td>\n      <td>False</td>\n      <td>False</td>\n      <td>False</td>\n      <td>False</td>\n      <td>False</td>\n      <td>False</td>\n      <td>False</td>\n      <td>False</td>\n      <td>False</td>\n      <td>False</td>\n      <td>False</td>\n      <td>False</td>\n      <td>False</td>\n    </tr>\n  </tbody>\n</table>\n<p>39045 rows × 14 columns</p>\n</div>"
     },
     "execution_count": 10,
     "metadata": {},
     "output_type": "execute_result"
    }
   ],
   "source": [
    "data.isnull()"
   ],
   "metadata": {
    "collapsed": false,
    "ExecuteTime": {
     "end_time": "2023-05-26T00:26:39.351976400Z",
     "start_time": "2023-05-26T00:26:39.290107600Z"
    }
   }
  },
  {
   "cell_type": "code",
   "execution_count": 11,
   "outputs": [
    {
     "data": {
      "text/plain": "描述      0\n位置信息    0\n区域      0\n总价      0\n单价      0\n户型      0\n面积      0\n朝向      0\n类型      0\n楼层      0\n建成时间    0\n结构      0\n关注人数    0\n发布时间    0\ndtype: int64"
     },
     "execution_count": 11,
     "metadata": {},
     "output_type": "execute_result"
    }
   ],
   "source": [
    "(data.isnull()).sum()"
   ],
   "metadata": {
    "collapsed": false,
    "ExecuteTime": {
     "end_time": "2023-05-26T00:27:06.431339Z",
     "start_time": "2023-05-26T00:27:06.365940200Z"
    }
   }
  },
  {
   "cell_type": "code",
   "execution_count": 12,
   "outputs": [
    {
     "data": {
      "text/plain": "16"
     },
     "execution_count": 12,
     "metadata": {},
     "output_type": "execute_result"
    }
   ],
   "source": [
    "(data.duplicated()).sum()"
   ],
   "metadata": {
    "collapsed": false,
    "ExecuteTime": {
     "end_time": "2023-05-26T00:27:23.465574700Z",
     "start_time": "2023-05-26T00:27:23.391008900Z"
    }
   }
  },
  {
   "cell_type": "code",
   "execution_count": 13,
   "outputs": [],
   "source": [
    "data.drop_duplicates(inplace=True)"
   ],
   "metadata": {
    "collapsed": false,
    "ExecuteTime": {
     "end_time": "2023-05-26T00:27:54.331178300Z",
     "start_time": "2023-05-26T00:27:54.240458100Z"
    }
   }
  },
  {
   "cell_type": "code",
   "execution_count": 14,
   "outputs": [
    {
     "data": {
      "text/plain": "array(['91.8', '128.5', '153', ..., '447', '125.5', '122.6'], dtype=object)"
     },
     "execution_count": 14,
     "metadata": {},
     "output_type": "execute_result"
    }
   ],
   "source": [
    "data.总价.map(lambda x: re.sub('[\\u4E00-\\u9FA5]', '', x)).unique()"
   ],
   "metadata": {
    "collapsed": false,
    "ExecuteTime": {
     "end_time": "2023-05-26T00:28:53.064637600Z",
     "start_time": "2023-05-26T00:28:52.993172600Z"
    }
   }
  },
  {
   "cell_type": "code",
   "execution_count": null,
   "outputs": [],
   "source": [],
   "metadata": {
    "collapsed": false
   }
  }
 ],
 "metadata": {
  "kernelspec": {
   "display_name": "Python 3",
   "language": "python",
   "name": "python3"
  },
  "language_info": {
   "codemirror_mode": {
    "name": "ipython",
    "version": 2
   },
   "file_extension": ".py",
   "mimetype": "text/x-python",
   "name": "python",
   "nbconvert_exporter": "python",
   "pygments_lexer": "ipython2",
   "version": "2.7.6"
  }
 },
 "nbformat": 4,
 "nbformat_minor": 0
}
